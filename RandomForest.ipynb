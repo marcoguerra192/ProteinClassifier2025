{
 "cells": [
  {
   "cell_type": "markdown",
   "id": "3fe6e569-a7e0-4576-8e50-93b4d17ed380",
   "metadata": {},
   "source": [
    "# Random Forest Classifier"
   ]
  },
  {
   "cell_type": "code",
   "execution_count": 135,
   "id": "55963088-2c75-4078-b253-741a62c90b51",
   "metadata": {},
   "outputs": [
    {
     "name": "stdout",
     "output_type": "stream",
     "text": [
      "The IPython.extensions.autoreload extension is already loaded. To reload it, use:\n",
      "  %reload_ext IPython.extensions.autoreload\n"
     ]
    }
   ],
   "source": [
    "%load_ext IPython.extensions.autoreload\n",
    "%autoreload 2"
   ]
  },
  {
   "cell_type": "code",
   "execution_count": 136,
   "id": "bfba4f83-48f2-43ca-a92f-11ab19b88380",
   "metadata": {},
   "outputs": [],
   "source": [
    "import sys,os\n",
    "from pathlib import Path\n",
    "import numpy as np\n",
    "import matplotlib.pyplot as plt"
   ]
  },
  {
   "cell_type": "code",
   "execution_count": 137,
   "id": "64a850f1-ef51-46b3-9a9d-395f124b8094",
   "metadata": {},
   "outputs": [],
   "source": [
    "import numpy as np\n",
    "from src.data_reader import DataSource, read_vertices_VTK, num_vertices_VTK\n",
    "from src.descriptors.dscs_driver import compute_descriptors\n",
    "\n",
    "from src.utils import get_free_id, write_jsonl, clear_jsonl"
   ]
  },
  {
   "cell_type": "markdown",
   "id": "2a4d6989-9bab-4ddf-9af3-b17d965dffb5",
   "metadata": {},
   "source": [
    "!pip install numpy==1.23.0"
   ]
  },
  {
   "cell_type": "code",
   "execution_count": 138,
   "id": "cae30af0-db39-4911-9261-30247821fa69",
   "metadata": {},
   "outputs": [],
   "source": [
    "from ripser import ripser\n",
    "from persim import plot_diagrams"
   ]
  },
  {
   "cell_type": "code",
   "execution_count": 139,
   "id": "9d29b2f4-965f-4a1c-acc1-9db911b0a6e7",
   "metadata": {},
   "outputs": [],
   "source": [
    "from gudhi import RipsComplex, AlphaComplex, plot_persistence_diagram\n",
    "from gudhi.representations import ProminentPoints\n",
    "from gudhi.representations import PersistenceImage"
   ]
  },
  {
   "cell_type": "code",
   "execution_count": 140,
   "id": "a2ea1675-e0eb-41ed-9ded-3c49aaf495be",
   "metadata": {},
   "outputs": [],
   "source": [
    "from sklearn.decomposition import PCA, KernelPCA\n",
    "from sklearn.ensemble import RandomForestClassifier\n",
    "from sklearn.mixture import GaussianMixture as GMM\n",
    "from sklearn.model_selection import StratifiedShuffleSplit\n",
    "from sklearn.metrics import accuracy_score, classification_report\n",
    "from sklearn.ensemble import AdaBoostClassifier\n",
    "\n",
    "import joblib"
   ]
  },
  {
   "cell_type": "code",
   "execution_count": 141,
   "id": "3beb7ffe-ea26-45b2-b3db-2d1f374a45a9",
   "metadata": {},
   "outputs": [],
   "source": [
    "import csv"
   ]
  },
  {
   "cell_type": "markdown",
   "id": "5835a4ad-a275-4bc3-97e1-b4f3cd0cbb59",
   "metadata": {},
   "source": [
    "### Reload descriptors"
   ]
  },
  {
   "cell_type": "code",
   "execution_count": 19,
   "id": "ec48d7f6-c219-4095-9d0c-ef74b68b0dc8",
   "metadata": {},
   "outputs": [
    {
     "name": "stdout",
     "output_type": "stream",
     "text": [
      "(9244, 15) (9244,)\n"
     ]
    }
   ],
   "source": [
    "# load descriptors\n",
    "\n",
    "Model='quantiles'\n",
    "Model = 'AlphaProminent'\n",
    "\n",
    "# data base path\n",
    "data_base = './data/data/'\n",
    "\n",
    "save_descs_path = os.path.join(data_base,'saved_descriptors/train_set/')\n",
    "\n",
    "#data = np.load(os.path.join(save_descs_path,Model+'Data.npy'))\n",
    "data = np.load(os.path.join(save_descs_path,'EncodedAlphaProminent.npy'))\n",
    "#labels = np.load(os.path.join(save_descs_path,Model+'Labels.npy'))\n",
    "\n",
    "print(data.shape, labels.shape)"
   ]
  },
  {
   "cell_type": "markdown",
   "id": "68e575dc-1801-449d-9028-1935c095a3ef",
   "metadata": {},
   "source": [
    "#### Sectors Data + Alpha - NOT augmented"
   ]
  },
  {
   "cell_type": "code",
   "execution_count": 152,
   "id": "8f8d11fc-8a13-4734-947f-5a405e18172e",
   "metadata": {},
   "outputs": [],
   "source": [
    "dataS = np.load( './data/sectors/saved_descriptors/train_set/TrainData.npy' )\n",
    "dataAlpha = np.load('./data/data/saved_descriptors/train_set/AlphaProminent.npy')\n",
    "\n",
    "data = np.concatenate( [dataS , dataAlpha] , axis = 1 )\n",
    "data = dataAlpha"
   ]
  },
  {
   "cell_type": "code",
   "execution_count": 153,
   "id": "27911649-fc8f-4d3d-b8dc-b580001036a6",
   "metadata": {},
   "outputs": [
    {
     "data": {
      "text/plain": [
       "(9244, 75)"
      ]
     },
     "execution_count": 153,
     "metadata": {},
     "output_type": "execute_result"
    }
   ],
   "source": [
    "data.shape"
   ]
  },
  {
   "cell_type": "code",
   "execution_count": 154,
   "id": "ac503e5e-334e-4c53-9811-e8ada968f17e",
   "metadata": {},
   "outputs": [],
   "source": [
    "labels = np.load('./data/data/saved_descriptors/train_set/AlphaProminentLabels.npy')"
   ]
  },
  {
   "cell_type": "code",
   "execution_count": 155,
   "id": "cedf098a-c72e-4ea4-90a8-1f72ef87a135",
   "metadata": {},
   "outputs": [
    {
     "data": {
      "text/plain": [
       "(9244,)"
      ]
     },
     "execution_count": 155,
     "metadata": {},
     "output_type": "execute_result"
    }
   ],
   "source": [
    "labels.shape"
   ]
  },
  {
   "cell_type": "markdown",
   "id": "2f366007-11f6-428d-871f-1ca3e2e8fd46",
   "metadata": {},
   "source": [
    "# Cross-Validation"
   ]
  },
  {
   "cell_type": "code",
   "execution_count": 156,
   "id": "f4f12b71-6c4b-4c9b-af3d-6b5a6e006f8d",
   "metadata": {},
   "outputs": [],
   "source": [
    "StrShSp = StratifiedShuffleSplit(n_splits=15, train_size=0.8, random_state=42)\n",
    "\n",
    "# get indices of split\n",
    "train_idx, val_idx = next(StrShSp.split(data, labels))\n",
    "\n",
    "train_data = data[train_idx,:]\n",
    "train_labels = labels[train_idx]\n",
    "\n",
    "val_data = data[val_idx]\n",
    "val_labels = labels[val_idx]\n",
    "\n",
    "# log file for run\n",
    "run_log = './runs/trainings/runs.jsonl'\n",
    "# get a new run id\n",
    "run_id = get_free_id(run_log)\n"
   ]
  },
  {
   "cell_type": "code",
   "execution_count": 157,
   "id": "44c5528b-94f8-4c95-ba25-2986b72e0085",
   "metadata": {},
   "outputs": [
    {
     "data": {
      "text/plain": [
       "(7395,)"
      ]
     },
     "execution_count": 157,
     "metadata": {},
     "output_type": "execute_result"
    }
   ],
   "source": [
    "train_idx.shape"
   ]
  },
  {
   "cell_type": "code",
   "execution_count": 158,
   "id": "cb142005-0a25-487e-8217-9cf2fc3aabb6",
   "metadata": {},
   "outputs": [
    {
     "data": {
      "text/plain": [
       "<BarContainer object of 100 artists>"
      ]
     },
     "execution_count": 158,
     "metadata": {},
     "output_type": "execute_result"
    },
    {
     "data": {
      "image/png": "[encoded data removed]",
      "text/plain": [
       "<Figure size 432x288 with 1 Axes>"
      ]
     },
     "metadata": {
      "needs_background": "light"
     },
     "output_type": "display_data"
    }
   ],
   "source": [
    "counts, bins = np.histogram(train_labels, bins=100)\n",
    "plt.bar(bins[:-1],counts)"
   ]
  },
  {
   "cell_type": "code",
   "execution_count": 159,
   "id": "8caf2b55-6501-4589-a97c-70151fcc7c00",
   "metadata": {},
   "outputs": [
    {
     "data": {
      "text/plain": [
       "<BarContainer object of 100 artists>"
      ]
     },
     "execution_count": 159,
     "metadata": {},
     "output_type": "execute_result"
    },
    {
     "data": {
      "image/png": "[encoded data removed]",
      "text/plain": [
       "<Figure size 432x288 with 1 Axes>"
      ]
     },
     "metadata": {
      "needs_background": "light"
     },
     "output_type": "display_data"
    }
   ],
   "source": [
    "counts, bins = np.histogram(val_labels, bins=100)\n",
    "plt.bar(bins[:-1],counts)"
   ]
  },
  {
   "cell_type": "code",
   "execution_count": 160,
   "id": "e27969aa-e376-4daf-a5dd-459fc79d3b45",
   "metadata": {},
   "outputs": [
    {
     "data": {
      "text/plain": [
       "array([   2,    2,    2,    2,    2,    2,    2,    2,    2,    2,    3,\n",
       "          3,    3,    3,    5,    5,    6,    7,    8,    9,   10,   10,\n",
       "         10,   10,   10,   14,   14,   15,   17,   17,   18,   18,   19,\n",
       "         21,   22,   23,   25,   26,   27,   33,   34,   35,   37,   42,\n",
       "         43,   44,   49,   49,   52,   53,   54,   54,   57,   57,   58,\n",
       "         58,   61,   66,   69,   70,   71,   73,   73,   74,   75,   76,\n",
       "         76,   78,   80,   89,   93,   95,   95,   97,  101,  102,  103,\n",
       "        109,  115,  116,  118,  119,  126,  127,  128,  129,  135,  143,\n",
       "        150,  154,  203,  223,  240,  489,  654,  788, 2054])"
      ]
     },
     "execution_count": 160,
     "metadata": {},
     "output_type": "execute_result"
    }
   ],
   "source": [
    "_, counts = np.unique(labels,return_counts=True)\n",
    "np.sort(counts)"
   ]
  },
  {
   "cell_type": "code",
   "execution_count": 161,
   "id": "b4a1ad96-42a1-4b03-b630-feb66945e52c",
   "metadata": {},
   "outputs": [
    {
     "data": {
      "text/plain": [
       "(85,)"
      ]
     },
     "execution_count": 161,
     "metadata": {},
     "output_type": "execute_result"
    }
   ],
   "source": [
    "np.unique(val_labels).shape"
   ]
  },
  {
   "cell_type": "markdown",
   "id": "8fe3f75b-0c93-4e19-a87a-b7ac8e245410",
   "metadata": {},
   "source": [
    "# Classifier"
   ]
  },
  {
   "cell_type": "markdown",
   "id": "b23f131f-af1c-48ba-8c10-13a0e0bb22eb",
   "metadata": {},
   "source": [
    "#### Random forest"
   ]
  },
  {
   "cell_type": "code",
   "execution_count": 37,
   "id": "3ea933f9-2ff4-428d-a516-46244c29ed47",
   "metadata": {},
   "outputs": [
    {
     "data": {
      "text/plain": [
       "(9244,)"
      ]
     },
     "execution_count": 37,
     "metadata": {},
     "output_type": "execute_result"
    }
   ],
   "source": [
    "data = np.load('ThisData.npy')\n",
    "labels.shape"
   ]
  },
  {
   "cell_type": "code",
   "execution_count": 162,
   "id": "356aab93-96ab-4de6-85f6-f7717cfdb72e",
   "metadata": {},
   "outputs": [],
   "source": [
    "# Random Forest\n",
    "\n",
    "N_Estimators = 150\n",
    "criterion = 'entropy'\n",
    "\n",
    "forest = RandomForestClassifier(n_estimators=N_Estimators, criterion=criterion, max_features='sqrt', max_depth=None)\n",
    "forest.fit(train_data, train_labels)\n",
    "\n",
    "params = {'id':run_id , 'model':'RF' , 'n_estimators':N_Estimators , 'criterion':criterion}\n",
    "\n",
    "# SAVE Model\n",
    "trained_model_path = './trained_models/random_forest/'\n",
    "\n",
    "joblib.dump(forest , os.path.join(trained_model_path, 'model.pkl'));"
   ]
  },
  {
   "cell_type": "code",
   "execution_count": 163,
   "id": "47079ce8-8354-440a-8519-3454aad6704f",
   "metadata": {},
   "outputs": [],
   "source": [
    "pred_labels = forest.predict(val_data)\n",
    "#pred_labels = forest.predict(data)"
   ]
  },
  {
   "cell_type": "markdown",
   "id": "53ff216e-7029-43b3-8cc0-450cf2f6b6ee",
   "metadata": {},
   "source": [
    "# Scoring"
   ]
  },
  {
   "cell_type": "code",
   "execution_count": 164,
   "id": "2ebd1aca-7154-4f72-97fa-99f8ee234077",
   "metadata": {},
   "outputs": [
    {
     "name": "stdout",
     "output_type": "stream",
     "text": [
      "0.7766360194699837\n"
     ]
    }
   ],
   "source": [
    "acc = accuracy_score(val_labels, pred_labels)\n",
    "#acc = accuracy_score(labels, pred_labels)\n",
    "\n",
    "params.update( {'accuracy':acc} )\n",
    "write_jsonl(run_log, params)\n",
    "print(acc)"
   ]
  },
  {
   "cell_type": "code",
   "execution_count": 165,
   "id": "a699685a-b89c-4c88-bff8-c23512184d82",
   "metadata": {
    "scrolled": true
   },
   "outputs": [
    {
     "name": "stdout",
     "output_type": "stream",
     "text": [
      "              precision    recall  f1-score   support\n",
      "\n",
      "           0       0.90      0.90      0.90        20\n",
      "           2       1.00      1.00      1.00         3\n",
      "           3       1.00      0.50      0.67         4\n",
      "           4       0.00      0.00      0.00         3\n",
      "           5       0.90      0.76      0.83        25\n",
      "           6       1.00      0.20      0.33         5\n",
      "           7       0.86      0.80      0.83        15\n",
      "           8       0.89      1.00      0.94       411\n",
      "           9       0.79      0.85      0.81        13\n",
      "          10       1.00      0.67      0.80         3\n",
      "          11       1.00      0.22      0.36         9\n",
      "          12       0.00      0.00      0.00         2\n",
      "          13       0.00      0.00      0.00         4\n",
      "          14       0.58      0.90      0.70        98\n",
      "          15       0.88      0.83      0.86        18\n",
      "          16       0.77      0.77      0.77        31\n",
      "          17       0.80      0.87      0.83        23\n",
      "          18       0.85      0.73      0.79        15\n",
      "          19       0.83      0.62      0.71         8\n",
      "          20       0.00      0.00      0.00         1\n",
      "          21       0.40      0.40      0.40        15\n",
      "          22       0.69      0.75      0.72        12\n",
      "          23       0.00      0.00      0.00         2\n",
      "          24       0.00      0.00      0.00         2\n",
      "          25       1.00      0.62      0.77        29\n",
      "          27       0.00      0.00      0.00         1\n",
      "          28       1.00      0.50      0.67         4\n",
      "          29       1.00      0.33      0.50         3\n",
      "          30       0.00      0.00      0.00         1\n",
      "          31       1.00      0.43      0.60         7\n",
      "          32       0.52      0.58      0.55        19\n",
      "          33       0.71      1.00      0.83        25\n",
      "          34       1.00      0.20      0.33        15\n",
      "          35       0.00      0.00      0.00         5\n",
      "          36       1.00      0.50      0.67         2\n",
      "          37       1.00      0.92      0.96        24\n",
      "          38       1.00      0.29      0.44         7\n",
      "          39       0.20      0.25      0.22         4\n",
      "          40       0.22      0.11      0.14        19\n",
      "          41       0.67      0.84      0.74        19\n",
      "          43       0.78      0.50      0.61        14\n",
      "          45       0.91      0.91      0.91        22\n",
      "          46       0.57      0.44      0.50         9\n",
      "          47       0.29      0.29      0.29         7\n",
      "          48       0.83      1.00      0.91         5\n",
      "          49       0.00      0.00      0.00        10\n",
      "          51       0.85      0.79      0.81        14\n",
      "          52       1.00      0.47      0.64        15\n",
      "          53       1.00      0.64      0.78        11\n",
      "          54       0.92      0.92      0.92        26\n",
      "          55       1.00      0.20      0.33         5\n",
      "          56       0.64      0.99      0.78       131\n",
      "          57       0.00      0.00      0.00         2\n",
      "          59       0.62      0.73      0.67        11\n",
      "          60       0.64      0.60      0.62        15\n",
      "          61       0.78      0.52      0.62        48\n",
      "          62       1.00      0.89      0.94        27\n",
      "          64       0.60      0.55      0.57        11\n",
      "          65       0.00      0.00      0.00         2\n",
      "          66       0.83      0.91      0.87        11\n",
      "          67       1.00      0.67      0.80         3\n",
      "          68       0.00      0.00      0.00         1\n",
      "          69       0.88      0.44      0.58        16\n",
      "          70       0.73      0.18      0.29        45\n",
      "          71       0.76      0.95      0.84        20\n",
      "          73       0.50      1.00      0.67         1\n",
      "          74       0.97      0.97      0.97        30\n",
      "          75       0.89      0.57      0.70        14\n",
      "          76       0.00      0.00      0.00         2\n",
      "          78       0.00      0.00      0.00         1\n",
      "          79       0.75      0.56      0.64        16\n",
      "          80       0.00      0.00      0.00        11\n",
      "          81       0.73      0.92      0.81        12\n",
      "          83       0.85      0.96      0.90        23\n",
      "          84       1.00      0.75      0.86         4\n",
      "          85       0.88      0.70      0.78        10\n",
      "          86       0.55      0.15      0.23        41\n",
      "          87       0.90      0.90      0.90        21\n",
      "          88       0.74      0.74      0.74        19\n",
      "          90       0.75      0.96      0.84       158\n",
      "          91       0.96      1.00      0.98        24\n",
      "          92       0.67      0.85      0.75        26\n",
      "          93       0.00      0.00      0.00        12\n",
      "          94       1.00      0.50      0.67        10\n",
      "          96       0.50      0.57      0.53         7\n",
      "\n",
      "    accuracy                           0.78      1849\n",
      "   macro avg       0.64      0.53      0.55      1849\n",
      "weighted avg       0.77      0.78      0.75      1849\n",
      "\n"
     ]
    }
   ],
   "source": [
    "print(classification_report(val_labels, pred_labels, zero_division=0.0))\n",
    "#print(classification_report(labels, pred_labels, zero_division=0.0))"
   ]
  },
  {
   "cell_type": "code",
   "execution_count": 166,
   "id": "39a0d5ed-72e3-450f-be41-f28cad1e89e0",
   "metadata": {},
   "outputs": [
    {
     "data": {
      "text/plain": [
       "(70,)"
      ]
     },
     "execution_count": 166,
     "metadata": {},
     "output_type": "execute_result"
    }
   ],
   "source": [
    "np.unique(pred_labels).shape"
   ]
  },
  {
   "cell_type": "code",
   "execution_count": 167,
   "id": "549955c0-e84c-49c2-bb0f-33c57db4244e",
   "metadata": {},
   "outputs": [
    {
     "data": {
      "text/plain": [
       "(85,)"
      ]
     },
     "execution_count": 167,
     "metadata": {},
     "output_type": "execute_result"
    }
   ],
   "source": [
    "np.unique(val_labels).shape"
   ]
  },
  {
   "cell_type": "raw",
   "id": "44fe0945-e1cd-429e-bd7b-2158d6866133",
   "metadata": {},
   "source": [
    "## Test Forecast"
   ]
  },
  {
   "cell_type": "code",
   "execution_count": 171,
   "id": "3ee39067-1f74-4a1c-b9cf-e49d61d054dc",
   "metadata": {},
   "outputs": [],
   "source": [
    "TestDataAlpha = np.load('./data/data/saved_descriptors/test_set/AlphaProminentData.npy')\n",
    "TestDataS = np.load('./data/sectors/saved_descriptors/test_set/TestSectorData.npy')"
   ]
  },
  {
   "cell_type": "code",
   "execution_count": 172,
   "id": "44ae3dba-7bf7-4920-90be-b53e40cd4a60",
   "metadata": {},
   "outputs": [],
   "source": [
    "TestData = np.concatenate( [TestDataAlpha , TestDataS] , axis = 1 )\n",
    "TestData = TestDataAlpha"
   ]
  },
  {
   "cell_type": "code",
   "execution_count": 173,
   "id": "2b645a2e-131c-4b17-820e-461b59567d12",
   "metadata": {},
   "outputs": [],
   "source": [
    "pred_labels = forest.predict(TestData)"
   ]
  },
  {
   "cell_type": "markdown",
   "id": "076259df-f1b4-47ab-992e-1d9668867894",
   "metadata": {},
   "source": [
    "### Plot"
   ]
  },
  {
   "cell_type": "code",
   "execution_count": 174,
   "id": "34743ec9-aaf3-48f7-b7c5-58ceab00eda3",
   "metadata": {},
   "outputs": [],
   "source": [
    "hist, bins = np.histogram(pred_labels, bins=np.arange(0,97), density=True)\n",
    "histTruth, _ = np.histogram(labels, bins=np.arange(0,97), density=True)"
   ]
  },
  {
   "cell_type": "code",
   "execution_count": 175,
   "id": "f50e05f6-b49c-483c-8a93-525ef89e52c2",
   "metadata": {},
   "outputs": [
    {
     "data": {
      "text/plain": [
       "<BarContainer object of 96 artists>"
      ]
     },
     "execution_count": 175,
     "metadata": {},
     "output_type": "execute_result"
    },
    {
     "data": {
      "image/png": "[encoded data removed]",
      "text/plain": [
       "<Figure size 432x288 with 1 Axes>"
      ]
     },
     "metadata": {
      "needs_background": "light"
     },
     "output_type": "display_data"
    }
   ],
   "source": [
    "plt.bar(bins[:-1],hist, alpha=0.5, color='yellow', label='Pred')\n",
    "plt.bar(bins[:-1],histTruth, alpha=0.3, color='green', label='True')"
   ]
  },
  {
   "cell_type": "markdown",
   "id": "6c843e68-96b4-4631-b5ed-d8c099355a80",
   "metadata": {},
   "source": [
    "### Try clean alpha prominent alone"
   ]
  },
  {
   "cell_type": "code",
   "execution_count": 117,
   "id": "573b4207-a209-432a-9814-6071dca5761e",
   "metadata": {},
   "outputs": [],
   "source": [
    "data_aug = np.load('./data/data/saved_descriptors/train_set/CleanAlphaProminent_aug.npy')"
   ]
  },
  {
   "cell_type": "code",
   "execution_count": 118,
   "id": "b642561e-8f8c-4b14-923b-ce9e8de569f7",
   "metadata": {},
   "outputs": [],
   "source": [
    "labels_aug = np.load('./data/data/saved_descriptors/train_set/AugmentedLabels.npy')"
   ]
  },
  {
   "cell_type": "code",
   "execution_count": 119,
   "id": "6f85942a-76de-4526-81dd-79862cf6ed4c",
   "metadata": {},
   "outputs": [],
   "source": [
    "data = data_aug[ ::8 ,:]"
   ]
  },
  {
   "cell_type": "code",
   "execution_count": 120,
   "id": "49708301-c950-4da5-8409-934fddb2d8ff",
   "metadata": {},
   "outputs": [],
   "source": [
    "labels = labels_aug[::8]"
   ]
  },
  {
   "cell_type": "code",
   "execution_count": 42,
   "id": "2a74b2e4-349b-41b2-9592-42284d88ca18",
   "metadata": {},
   "outputs": [
    {
     "data": {
      "text/plain": [
       "(9244, 39)"
      ]
     },
     "execution_count": 42,
     "metadata": {},
     "output_type": "execute_result"
    }
   ],
   "source": []
  },
  {
   "cell_type": "code",
   "execution_count": 88,
   "id": "f10028f5-0216-47d4-b9c5-40b5a4382434",
   "metadata": {},
   "outputs": [
    {
     "data": {
      "text/plain": [
       "array([[23.71028008, 23.71028008, 23.71028008, 23.71028008, 23.71028008,\n",
       "        14.95556266, 14.95556266, 14.95556266, 14.95556266, 14.95556266,\n",
       "         3.6753408 ,  3.6753408 ,  3.6753408 ,  3.6753408 ,  3.6753408 ],\n",
       "       [23.71028008, 23.71028008, 23.71028008, 23.71028008, 23.71028008,\n",
       "        14.95556266, 14.95556266, 14.95556266, 14.95556266, 14.95556266,\n",
       "         3.6753408 ,  3.6753408 ,  3.6753408 ,  3.6753408 ,  3.6753408 ]])"
      ]
     },
     "execution_count": 88,
     "metadata": {},
     "output_type": "execute_result"
    }
   ],
   "source": [
    "data[0:2,0:15]"
   ]
  },
  {
   "cell_type": "markdown",
   "id": "a70a5630-b8ad-4eac-9fdb-e967ff5b7cb2",
   "metadata": {},
   "source": [
    "### Check distribution of labels in Test Set"
   ]
  },
  {
   "cell_type": "code",
   "execution_count": 131,
   "id": "63620051-e045-4b4c-9968-07a7b40dce2a",
   "metadata": {},
   "outputs": [],
   "source": [
    "TestData_aug = np.load('./data/data/saved_descriptors/test_set/CleanAlphaProminent_aug.npy')"
   ]
  },
  {
   "cell_type": "code",
   "execution_count": 111,
   "id": "3089a450-4cd9-48d5-9b2e-2d1acab808c3",
   "metadata": {},
   "outputs": [],
   "source": [
    "TestData = TestData_aug[ ::8 , :]"
   ]
  },
  {
   "cell_type": "code",
   "execution_count": 132,
   "id": "65773ef4-ed6f-471c-95af-b672c5ab6b46",
   "metadata": {},
   "outputs": [],
   "source": [
    "Test_pred_labels = forest.predict(TestData_aug)"
   ]
  },
  {
   "cell_type": "code",
   "execution_count": 133,
   "id": "c461d733-619b-4a9c-a63b-dd3c1e803708",
   "metadata": {},
   "outputs": [],
   "source": [
    "hist, bins = np.histogram(Test_pred_labels, bins=np.arange(0,97), density=True)\n",
    "histTruth, _ = np.histogram(labels_aug, bins=np.arange(0,97), density=True)"
   ]
  },
  {
   "cell_type": "code",
   "execution_count": 134,
   "id": "a8ca6ac9-9e03-4450-abc2-288daa323cbf",
   "metadata": {},
   "outputs": [
    {
     "data": {
      "text/plain": [
       "<matplotlib.legend.Legend at 0x7d4f01c4bd90>"
      ]
     },
     "execution_count": 134,
     "metadata": {},
     "output_type": "execute_result"
    },
    {
     "data": {
      "image/png": "[encoded data removed]",
      "text/plain": [
       "<Figure size 432x288 with 1 Axes>"
      ]
     },
     "metadata": {
      "needs_background": "light"
     },
     "output_type": "display_data"
    }
   ],
   "source": [
    "plt.bar(bins[:-1],hist, alpha=0.5, color='green', label='Predicted')\n",
    "plt.bar(bins[:-1],histTruth, alpha=0.3, color='blue', label='from Training')\n",
    "plt.xlabel('Class')\n",
    "plt.ylabel('Freq')\n",
    "plt.legend()"
   ]
  },
  {
   "cell_type": "markdown",
   "id": "55893680-1127-4121-8cac-7fa132499808",
   "metadata": {},
   "source": [
    "## Ground Truth"
   ]
  },
  {
   "cell_type": "code",
   "execution_count": 176,
   "id": "4cb5843f-c9d5-436b-be47-115083e37352",
   "metadata": {},
   "outputs": [],
   "source": [
    "import pandas as pd"
   ]
  },
  {
   "cell_type": "code",
   "execution_count": 178,
   "id": "8148acae-3253-4534-8ab0-f7180af7b7ca",
   "metadata": {},
   "outputs": [],
   "source": [
    "truth = pd.read_csv('./test_set_ground_truth.csv')\n",
    "truth = truth.to_numpy()[:,1]"
   ]
  },
  {
   "cell_type": "code",
   "execution_count": 180,
   "id": "dc75c129-bee5-48c7-bf46-becfd8d9db0f",
   "metadata": {},
   "outputs": [
    {
     "data": {
      "text/plain": [
       "array([88, 10,  8, ...,  8, 75, 51])"
      ]
     },
     "execution_count": 180,
     "metadata": {},
     "output_type": "execute_result"
    }
   ],
   "source": [
    "truth"
   ]
  },
  {
   "cell_type": "code",
   "execution_count": 181,
   "id": "8e56c9dd-cc49-44ed-b87f-fed7054d9c9a",
   "metadata": {},
   "outputs": [
    {
     "data": {
      "text/plain": [
       "array([39, 10,  8, ..., 51, 90, 14])"
      ]
     },
     "execution_count": 181,
     "metadata": {},
     "output_type": "execute_result"
    }
   ],
   "source": [
    "pred_labels"
   ]
  },
  {
   "cell_type": "code",
   "execution_count": 182,
   "id": "1aa0508b-f967-4c79-a455-b8382b898753",
   "metadata": {},
   "outputs": [
    {
     "data": {
      "text/plain": [
       "0.08660060318828092"
      ]
     },
     "execution_count": 182,
     "metadata": {},
     "output_type": "execute_result"
    }
   ],
   "source": [
    "accuracy_score(truth, pred_labels)"
   ]
  },
  {
   "cell_type": "code",
   "execution_count": null,
   "id": "e0fa140a-caca-4c87-9797-2bd0fcbeda8b",
   "metadata": {},
   "outputs": [],
   "source": []
  }
 ],
 "metadata": {
  "kernelspec": {
   "display_name": "Python 3 (ipykernel)",
   "language": "python",
   "name": "python3"
  },
  "language_info": {
   "codemirror_mode": {
    "name": "ipython",
    "version": 3
   },
   "file_extension": ".py",
   "mimetype": "text/x-python",
   "name": "python",
   "nbconvert_exporter": "python",
   "pygments_lexer": "ipython3",
   "version": "3.10.12"
  }
 },
 "nbformat": 4,
 "nbformat_minor": 5
}
