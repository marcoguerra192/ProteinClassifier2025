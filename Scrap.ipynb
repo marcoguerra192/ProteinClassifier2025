{
 "cells": [
  {
   "cell_type": "markdown",
   "id": "0d070011-1e83-40e6-8b7e-7f48ca21eaf0",
   "metadata": {},
   "source": [
    "# Scrap"
   ]
  },
  {
   "cell_type": "code",
   "execution_count": 9,
   "id": "80b2b58b-5eed-4103-8154-e9aa6dffc015",
   "metadata": {},
   "outputs": [],
   "source": [
    "%load_ext IPython.extensions.autoreload\n",
    "%autoreload 2"
   ]
  },
  {
   "cell_type": "code",
   "execution_count": 3,
   "id": "ea0420b4-1c40-4a6d-bf39-5ba5ff027797",
   "metadata": {},
   "outputs": [],
   "source": [
    "import sys,os\n",
    "from pathlib import Path\n",
    "import numpy as np"
   ]
  },
  {
   "cell_type": "code",
   "execution_count": 4,
   "id": "a43abf90-d97d-49a3-996a-3d144ec19eb5",
   "metadata": {},
   "outputs": [],
   "source": [
    "from src.data_reader import DataSource, read_vertices_VTK, num_vertices_VTK, convertVTK_to_numpy\n",
    "from src.descriptors.distance_dist import distances_from_point, centroid\n",
    "import numpy as np"
   ]
  },
  {
   "cell_type": "markdown",
   "id": "8f7483ab-7c9f-4fa3-9ec1-76f13283358d",
   "metadata": {},
   "source": [
    "!pip install numpy==1.23.0"
   ]
  },
  {
   "cell_type": "code",
   "execution_count": 5,
   "id": "f1ad21d6-6815-4ffe-a262-3d73c73fcb54",
   "metadata": {},
   "outputs": [],
   "source": [
    "from ripser import ripser\n",
    "from persim import plot_diagrams"
   ]
  },
  {
   "cell_type": "code",
   "execution_count": 6,
   "id": "f076577e-191f-416a-997f-836eb1ffe281",
   "metadata": {},
   "outputs": [],
   "source": [
    "from gudhi import RipsComplex, AlphaComplex, plot_persistence_diagram, SimplexTree\n",
    "from gudhi.representations import ProminentPoints\n",
    "from gudhi.representations import PersistenceImage"
   ]
  },
  {
   "cell_type": "code",
   "execution_count": 7,
   "id": "b159a9df-b5cd-4191-92eb-d013f600266c",
   "metadata": {},
   "outputs": [],
   "source": [
    "from sklearn.decomposition import PCA, KernelPCA\n",
    "from sklearn.ensemble import RandomForestClassifier\n",
    "from sklearn.model_selection import StratifiedShuffleSplit\n",
    "\n",
    "import joblib"
   ]
  },
  {
   "cell_type": "code",
   "execution_count": 8,
   "id": "3ba417ed-20b6-445b-ab2c-2e6b15372869",
   "metadata": {},
   "outputs": [],
   "source": [
    "import csv"
   ]
  },
  {
   "cell_type": "code",
   "execution_count": 28,
   "id": "2bb2a4f0-e630-4b18-9661-ecf7c3e6f8c7",
   "metadata": {},
   "outputs": [],
   "source": [
    "source = './data/data/train_set/105m_1:A:A_model1.vtk'\n",
    "\n",
    "points, triangles, potentials, norm_potentials = convertVTK_to_numpy(source)"
   ]
  },
  {
   "cell_type": "code",
   "execution_count": 29,
   "id": "e82cb51d-d34d-4bb3-b1de-8249f1a6fecc",
   "metadata": {},
   "outputs": [],
   "source": [
    "centroid = centroid(points)"
   ]
  },
  {
   "cell_type": "code",
   "execution_count": 30,
   "id": "5a8629c6-a4ae-43ec-8a2b-e9ead4dab34d",
   "metadata": {},
   "outputs": [],
   "source": [
    "dists = distances_from_point(points, centroid)"
   ]
  },
  {
   "cell_type": "code",
   "execution_count": 10,
   "id": "5adec61b-a31f-48bb-8a78-85280939b741",
   "metadata": {},
   "outputs": [],
   "source": [
    "st = SimplexTree()"
   ]
  },
  {
   "cell_type": "code",
   "execution_count": 14,
   "id": "58553abc-c780-4b4c-a6af-21b565702a81",
   "metadata": {},
   "outputs": [],
   "source": [
    "for i in range(triangles.shape[0]):\n",
    "\n",
    "    t = triangles[i,:]\n",
    "    a,b,c = t[0] , t[1] , t[2] \n",
    "    \n",
    "    tri = [ a,b,c ] \n",
    "    #print(tri)\n",
    "    st.insert( tri )\n",
    "    st.assign_filtration(tri , filtration=np.max( dists[[a,b,c]] ))\n",
    "\n",
    "    e1 = [a,b]\n",
    "    e2 = [a,c]\n",
    "    e3 = [b,c]\n",
    "\n",
    "    st.insert( e1 )\n",
    "    st.assign_filtration(e1 , filtration=np.max( dists[[a,b]] ))\n",
    "\n",
    "    st.insert( e2 )\n",
    "    st.assign_filtration(e2 , filtration=np.max( dists[[a,c]] ))\n",
    "\n",
    "    st.insert( e3 )\n",
    "    st.assign_filtration(e3 , filtration=np.max( dists[[b,c]] ))\n",
    "    \n",
    "for p in range(points.shape[0]):\n",
    "\n",
    "    st.insert([p])\n",
    "    st.assign_filtration([p] , filtration = dists[p] )"
   ]
  },
  {
   "cell_type": "code",
   "execution_count": 21,
   "id": "653f602e-3a11-4e7e-8bd1-274e11338f0b",
   "metadata": {},
   "outputs": [],
   "source": [
    "st.compute_persistence()"
   ]
  },
  {
   "cell_type": "code",
   "execution_count": 26,
   "id": "81a81104-8e4a-44b2-a3a9-f1bf4bf132f3",
   "metadata": {},
   "outputs": [],
   "source": [
    "dgm0 = st.persistence_intervals_in_dimension(0)\n",
    "dgm1 = st.persistence_intervals_in_dimension(1)\n",
    "dgm2 = st.persistence_intervals_in_dimension(2)"
   ]
  },
  {
   "cell_type": "code",
   "execution_count": 41,
   "id": "b82bcedf-3134-42f2-83f9-9ff2585a3238",
   "metadata": {
    "collapsed": true,
    "jupyter": {
     "outputs_hidden": true
    }
   },
   "outputs": [
    {
     "data": {
      "text/plain": [
       "array([[ 2151,   711],\n",
       "       [ 2725,  2160],\n",
       "       [10588,  5149],\n",
       "       [ 4055,  9472],\n",
       "       [  588,  3417],\n",
       "       [ 3611,  3139],\n",
       "       [ 9632,  9880],\n",
       "       [ 8536,  9014],\n",
       "       [ 4467,  5629],\n",
       "       [ 6717,  6723],\n",
       "       [ 4065,  5157],\n",
       "       [ 9320,  6938],\n",
       "       [ 3475,  3947],\n",
       "       [ 3949,  4307],\n",
       "       [10138, 10492],\n",
       "       [ 8234,  8232],\n",
       "       [ 2668,  2922],\n",
       "       [ 1127,  1203],\n",
       "       [ 2265,  2269],\n",
       "       [ 1805,  2173],\n",
       "       [ 2251,  2257],\n",
       "       [10494,  4684],\n",
       "       [ 1780,  2156],\n",
       "       [ 9524,  6533],\n",
       "       [10189,  9827],\n",
       "       [ 9286,  1633],\n",
       "       [ 2202,  2241],\n",
       "       [ 6005,  9940],\n",
       "       [ 4167,  5734],\n",
       "       [ 9997,  9808],\n",
       "       [   67,   179],\n",
       "       [ 2294,  1200],\n",
       "       [  378,   710],\n",
       "       [ 9797, 10159],\n",
       "       [   79,   407],\n",
       "       [ 4043,  4045],\n",
       "       [ 2846,  2416],\n",
       "       [ 6955,  9698],\n",
       "       [10204,  7509],\n",
       "       [ 8188, 10427],\n",
       "       [ 8547,  8543],\n",
       "       [ 6953,  8553],\n",
       "       [ 8397,  8399],\n",
       "       [10168,  3224],\n",
       "       [ 6732,  8443],\n",
       "       [ 6137,  6689],\n",
       "       [ 5036,  5614],\n",
       "       [ 9716,  9714],\n",
       "       [ 5612,  5113],\n",
       "       [ 3954,  5117],\n",
       "       [  641,  1693],\n",
       "       [ 8458,  8280],\n",
       "       [ 5889,  5893],\n",
       "       [ 4238,  6568],\n",
       "       [ 6584,  4796],\n",
       "       [ 6373,  9248],\n",
       "       [  359,    39],\n",
       "       [ 8484,  8289],\n",
       "       [ 5384,  4828],\n",
       "       [ 7444,  4191],\n",
       "       [ 8444,  8934],\n",
       "       [ 5071,  8142],\n",
       "       [10235,  9395],\n",
       "       [ 8268,  9584],\n",
       "       [ 6617,  6882],\n",
       "       [ 5778,  4630],\n",
       "       [ 6484,  3971],\n",
       "       [ 4260,  3294],\n",
       "       [ 3927,  1375],\n",
       "       [ 9729, 10056],\n",
       "       [ 5788,  6065],\n",
       "       [ 1826,  2637],\n",
       "       [ 6757,  5374],\n",
       "       [ 3915,  5009],\n",
       "       [ 3999,  7636],\n",
       "       [ 4141,  6068],\n",
       "       [ 8416,  9861],\n",
       "       [ 4300,  3788],\n",
       "       [ 7851,  8616],\n",
       "       [ 7936,  7188],\n",
       "       [ 8262,  7720],\n",
       "       [ 7934,  8290],\n",
       "       [ 7772,  7776],\n",
       "       [ 4650,  5802],\n",
       "       [ 4956,  7930],\n",
       "       [ 1411,  2135],\n",
       "       [ 2623,  4860],\n",
       "       [ 7867, 10330],\n",
       "       [ 5400,  2621],\n",
       "       [ 7861, 10670],\n",
       "       [  687,   349],\n",
       "       [ 2811,  3870],\n",
       "       [ 4177,  9696],\n",
       "       [ 1729,   878],\n",
       "       [ 2764,  3190]])"
      ]
     },
     "execution_count": 41,
     "metadata": {},
     "output_type": "execute_result"
    }
   ],
   "source": [
    "gens = st.lower_star_persistence_generators()"
   ]
  },
  {
   "cell_type": "code",
   "execution_count": 13,
   "id": "98a2846b-371f-4b08-ab84-ae426e1427bc",
   "metadata": {},
   "outputs": [
    {
     "data": {
      "text/plain": [
       "(10675, 8865, 8773)"
      ]
     },
     "execution_count": 13,
     "metadata": {},
     "output_type": "execute_result"
    }
   ],
   "source": [
    "a,b,c"
   ]
  },
  {
   "cell_type": "code",
   "execution_count": 50,
   "id": "b66c19f6-b089-4add-8e39-4b2658d12c62",
   "metadata": {},
   "outputs": [
    {
     "data": {
      "text/plain": [
       "array([18.81957799, 18.93012561, 18.78500551])"
      ]
     },
     "execution_count": 50,
     "metadata": {},
     "output_type": "execute_result"
    }
   ],
   "source": [
    "dists[[a,b,c]]"
   ]
  },
  {
   "cell_type": "code",
   "execution_count": 7,
   "id": "3196f8de-b5dc-497b-8e42-ddc59f9fac98",
   "metadata": {},
   "outputs": [],
   "source": [
    "res = np.load('./data/data/sublevelset_filtrations/train_set/105m_1:A:A_model1.vtk.npz', allow_pickle=True)"
   ]
  },
  {
   "cell_type": "code",
   "execution_count": 35,
   "id": "ad3f6c2a-8581-4a14-9baf-b48118a7c683",
   "metadata": {},
   "outputs": [],
   "source": [
    "dgm0 = res['dgm0']\n",
    "dgm0\n",
    "\n",
    "pers0 = dgm0[:,1] - dgm0[:,0]\n",
    "\n",
    "mask = (pers0 >= .75) & (pers0 < np.inf)\n",
    "count = np.sum(mask)\n",
    "longest0_ind = np.argmax(pers0[ pers0 < np.inf])\n"
   ]
  },
  {
   "cell_type": "code",
   "execution_count": 37,
   "id": "53838580-154d-472e-80ef-8edda82c85e4",
   "metadata": {},
   "outputs": [
    {
     "data": {
      "text/plain": [
       "array([ 8.3044345 , 16.82317572])"
      ]
     },
     "execution_count": 37,
     "metadata": {},
     "output_type": "execute_result"
    }
   ],
   "source": [
    "dgm0[longest0_ind]"
   ]
  },
  {
   "cell_type": "code",
   "execution_count": 26,
   "id": "0be0d9eb-9fd1-4584-81b4-93ecbe137555",
   "metadata": {},
   "outputs": [
    {
     "data": {
      "text/plain": [
       "array([9644, 3335])"
      ]
     },
     "execution_count": 26,
     "metadata": {},
     "output_type": "execute_result"
    }
   ],
   "source": [
    "gens = res['gens']\n",
    "gens[0][0][32,:]"
   ]
  },
  {
   "cell_type": "code",
   "execution_count": 39,
   "id": "d9b7c2b3-bf43-4cee-8ab8-f03449d37f3b",
   "metadata": {},
   "outputs": [
    {
     "data": {
      "text/plain": [
       "8.304434503715049"
      ]
     },
     "execution_count": 39,
     "metadata": {},
     "output_type": "execute_result"
    }
   ],
   "source": [
    "dists[9644]"
   ]
  },
  {
   "cell_type": "code",
   "execution_count": 38,
   "id": "8fb0eeac-88cc-41d1-9421-44d5359563d7",
   "metadata": {},
   "outputs": [
    {
     "data": {
      "text/plain": [
       "16.82317572202225"
      ]
     },
     "execution_count": 38,
     "metadata": {},
     "output_type": "execute_result"
    }
   ],
   "source": [
    "dists[3335]"
   ]
  },
  {
   "cell_type": "code",
   "execution_count": 34,
   "id": "10613e5c-eeb8-4b7c-b8c8-316972776c75",
   "metadata": {},
   "outputs": [
    {
     "data": {
      "text/plain": [
       "8.5187412183072"
      ]
     },
     "execution_count": 34,
     "metadata": {},
     "output_type": "execute_result"
    }
   ],
   "source": [
    "dists[3335] - dists[9644]"
   ]
  },
  {
   "cell_type": "code",
   "execution_count": 36,
   "id": "2febce56-e69c-43cd-99af-ab5f0508a9a4",
   "metadata": {},
   "outputs": [
    {
     "data": {
      "text/plain": [
       "array([9644, 3335])"
      ]
     },
     "execution_count": 36,
     "metadata": {},
     "output_type": "execute_result"
    }
   ],
   "source": [
    "gens[0][0][longest0_ind,:]"
   ]
  },
  {
   "cell_type": "markdown",
   "id": "6e9dd9c7-d7c8-466d-bd05-13c26b72c729",
   "metadata": {},
   "source": [
    "### Read"
   ]
  },
  {
   "cell_type": "code",
   "execution_count": 36,
   "id": "af1d5a74-bf3e-4791-9dcf-8b3f11912111",
   "metadata": {},
   "outputs": [],
   "source": [
    "source = DataSource( './small_data/train_set/', base_path='./small_data/train_set')\n",
    "#source = DataSource( ['105', '106'], base_path='./small_data/train_set/')\n",
    "#source = DataSource( ['./small_data/train_set/105.txt', './small_data/train_set/106.txt'], base_path=None)"
   ]
  },
  {
   "cell_type": "code",
   "execution_count": 10,
   "id": "89cc6efe-417d-449d-a917-0e3c994135ca",
   "metadata": {},
   "outputs": [],
   "source": [
    "out_file = 'testfile.txt'"
   ]
  },
  {
   "cell_type": "markdown",
   "id": "17607079-1e28-48b1-8077-e7fed5fea4a7",
   "metadata": {},
   "source": [
    "#### Ripser exact VR"
   ]
  },
  {
   "cell_type": "code",
   "execution_count": 35,
   "id": "7f9fe94e-e36a-4935-84d9-db93337a6ebf",
   "metadata": {
    "collapsed": true,
    "jupyter": {
     "outputs_hidden": true
    },
    "scrolled": true
   },
   "outputs": [
    {
     "name": "stdout",
     "output_type": "stream",
     "text": [
      "[array([[0.        , 0.18237598],\n",
      "       [0.        , 0.19621417],\n",
      "       [0.        , 0.21816736],\n",
      "       ...,\n",
      "       [0.        , 1.09119976],\n",
      "       [0.        ,        inf],\n",
      "       [0.        ,        inf]]), array([[2.64431882, 2.65404034],\n",
      "       [2.49609971, 2.70711327],\n",
      "       [1.69725955, 1.78081334],\n",
      "       ...,\n",
      "       [0.59119034, 0.63406467],\n",
      "       [0.47625309, 0.61821842],\n",
      "       [0.471434  , 0.5506115 ]]), array([[2.97935724,        inf],\n",
      "       [2.9047184 , 2.9302001 ],\n",
      "       [2.88148952, 2.88295341],\n",
      "       [2.86002421, 2.87687707],\n",
      "       [2.83653641,        inf],\n",
      "       [2.78235865, 2.7945435 ],\n",
      "       [2.76915336,        inf],\n",
      "       [2.74653268,        inf],\n",
      "       [1.50766611,        inf],\n",
      "       [1.43507874, 1.46910894],\n",
      "       [1.33852041, 1.34455419],\n",
      "       [1.33126402, 2.79384041],\n",
      "       [1.29212999, 1.2945466 ],\n",
      "       [1.26893461, 1.30015886],\n",
      "       [1.23694623, 1.24699879],\n",
      "       [1.22370708, 1.24256229]])]\n",
      "[array([[0.        , 0.19972481],\n",
      "       [0.        , 0.21685249],\n",
      "       [0.        , 0.2171313 ],\n",
      "       ...,\n",
      "       [0.        , 1.49744618],\n",
      "       [0.        ,        inf],\n",
      "       [0.        ,        inf]]), array([[2.96475363,        inf],\n",
      "       [2.74218774,        inf],\n",
      "       [2.73205471,        inf],\n",
      "       ...,\n",
      "       [0.66159958, 0.66503686],\n",
      "       [0.57306367, 0.57925904],\n",
      "       [0.4466072 , 0.47748718]]), array([[2.98060894,        inf],\n",
      "       [2.63994956, 2.66631937],\n",
      "       [2.60235286, 2.63282013],\n",
      "       [1.5317477 ,        inf],\n",
      "       [1.46048927, 1.4741652 ],\n",
      "       [1.34750545, 1.38683844],\n",
      "       [1.31558239, 1.37183309],\n",
      "       [1.30005121, 1.34073937],\n",
      "       [1.28953671, 2.66678333],\n",
      "       [1.28149521, 1.32625866],\n",
      "       [1.28138602, 1.29080868],\n",
      "       [1.26626456, 1.31837857],\n",
      "       [1.25579023, 1.25827098],\n",
      "       [1.25248277, 2.62746668],\n",
      "       [1.25053024, 1.26709664]])]\n",
      "[array([[0.        , 0.2226522 ],\n",
      "       [0.        , 0.22448385],\n",
      "       [0.        , 0.22874877],\n",
      "       ...,\n",
      "       [0.        , 2.09716129],\n",
      "       [0.        ,        inf],\n",
      "       [0.        ,        inf]]), array([[2.66076183,        inf],\n",
      "       [2.44722748, 2.72685695],\n",
      "       [2.21621537, 2.24854732],\n",
      "       ...,\n",
      "       [0.53374714, 0.54887068],\n",
      "       [0.53197837, 0.56767333],\n",
      "       [0.5301066 , 0.54300183]]), array([[2.87804818,        inf],\n",
      "       [2.15131807, 2.16130137],\n",
      "       [1.55530345,        inf],\n",
      "       [1.44579184, 1.44623303],\n",
      "       [1.43396723, 1.45706761],\n",
      "       [1.39021182, 1.4612478 ],\n",
      "       [1.34843135, 1.35012996],\n",
      "       [1.33994222, 1.40945733],\n",
      "       [1.32707417, 2.80265689],\n",
      "       [1.32707417, 1.35211468],\n",
      "       [1.29703391, 1.29959106],\n",
      "       [1.28121078, 1.2906208 ],\n",
      "       [1.27268922, 1.28932118],\n",
      "       [1.26402891, 2.73197246],\n",
      "       [1.25651741, 1.26805758],\n",
      "       [1.25522268, 2.7013545 ],\n",
      "       [1.23555005, 1.28785634],\n",
      "       [1.1798563 , 1.18320704]])]\n"
     ]
    }
   ],
   "source": [
    "source = DataSource( './small_data/train_set/', base_path='./small_data/train_set')\n",
    "\n",
    "for s in source:\n",
    "\n",
    "    #read_vertices_VTK(s , out_file='testfile.txt', out_var=True)\n",
    "    points = read_vertices_VTK(s , out_var=True)\n",
    "    Diag = ripser(points, maxdim=2, thresh=3.0)['dgms']\n",
    "    print(Diag)"
   ]
  },
  {
   "cell_type": "markdown",
   "id": "2434f341-a70b-4413-a538-38ea597829a3",
   "metadata": {},
   "source": [
    "#### Gudhi approximate Rips"
   ]
  },
  {
   "cell_type": "code",
   "execution_count": 83,
   "id": "8172778d-c20c-49c5-9c8a-aab7438267ca",
   "metadata": {},
   "outputs": [
    {
     "name": "stdout",
     "output_type": "stream",
     "text": [
      "/home/marco/CodeImati/SHREC25/small_data/train_set/105m_1:A:A_model1.vtk\n",
      "/home/marco/CodeImati/SHREC25/small_data/train_set/107m_1:A:A_model1.vtk\n",
      "/home/marco/CodeImati/SHREC25/small_data/train_set/110m_1:A:A_model1.vtk\n"
     ]
    }
   ],
   "source": [
    "source = DataSource( './small_data/train_set/', base_path='./small_data/train_set')\n",
    "\n",
    "for s in source:\n",
    "\n",
    "    print(s)\n",
    "    #read_vertices_VTK(s , out_file='testfile.txt', out_var=True)\n",
    "    points = read_vertices_VTK(s , out_var=True).tolist()\n",
    "    st = RipsComplex(points=points, max_edge_length = 25.0, sparse=1.5).create_simplex_tree(max_dimension = 2)\n",
    "\n",
    "    st.compute_persistence(homology_coeff_field=2, persistence_dim_max=2)\n",
    "\n",
    "    diag = st.persistence()\n"
   ]
  },
  {
   "cell_type": "code",
   "execution_count": 31,
   "id": "3df8aa90-21e2-4364-8e81-f4c84c3bdf7b",
   "metadata": {
    "scrolled": true
   },
   "outputs": [
    {
     "data": {
      "text/plain": [
       "11400"
      ]
     },
     "execution_count": 31,
     "metadata": {},
     "output_type": "execute_result"
    }
   ],
   "source": [
    "len(diag)"
   ]
  },
  {
   "cell_type": "markdown",
   "id": "596a8651-24a5-40aa-bf09-21327fc1d3d2",
   "metadata": {},
   "source": [
    "This looks bad, as there are more pairs than points. "
   ]
  },
  {
   "cell_type": "markdown",
   "id": "b9b8f3d7-b7a9-4efa-a986-9351d9992a81",
   "metadata": {},
   "source": [
    "#### Gudhi Alpha complex"
   ]
  },
  {
   "cell_type": "code",
   "execution_count": 102,
   "id": "32c93d24-1a9e-4164-a66a-054da1d6942d",
   "metadata": {},
   "outputs": [
    {
     "name": "stdout",
     "output_type": "stream",
     "text": [
      "/home/marco/CodeImati/SHREC25/small_data/train_set/105m_1:A:A_model1.vtk\n",
      "/home/marco/CodeImati/SHREC25/small_data/train_set/107m_1:A:A_model1.vtk\n",
      "/home/marco/CodeImati/SHREC25/small_data/train_set/110m_1:A:A_model1.vtk\n"
     ]
    }
   ],
   "source": [
    "source = DataSource( './small_data/train_set/', base_path='./small_data/train_set')\n",
    "\n",
    "for s in source:\n",
    "\n",
    "    print(s)\n",
    "    #read_vertices_VTK(s , out_file='testfile.txt', out_var=True)\n",
    "    points = read_vertices_VTK(s , out_var=True).tolist()\n",
    "    st = AlphaComplex(points=points).create_simplex_tree()\n",
    "\n",
    "    st.compute_persistence(homology_coeff_field=2, persistence_dim_max=1)\n",
    "\n",
    "    diag = st.persistence()"
   ]
  },
  {
   "cell_type": "code",
   "execution_count": 103,
   "id": "c4b24f14-cdb1-4f25-a921-68bc43f3cc60",
   "metadata": {},
   "outputs": [
    {
     "data": {
      "text/plain": [
       "<AxesSubplot:title={'center':'Persistence diagram'}, xlabel='Birth', ylabel='Death'>"
      ]
     },
     "execution_count": 103,
     "metadata": {},
     "output_type": "execute_result"
    },
    {
     "data": {
      "image/png": "[encoded data removed]",
      "text/plain": [
       "<Figure size 432x288 with 1 Axes>"
      ]
     },
     "metadata": {
      "needs_background": "light"
     },
     "output_type": "display_data"
    }
   ],
   "source": [
    "plot_persistence_diagram(diag)"
   ]
  },
  {
   "cell_type": "markdown",
   "id": "18980514-5870-4228-acf1-427d93f8f1f2",
   "metadata": {},
   "source": [
    "#### Turn to numpy"
   ]
  },
  {
   "cell_type": "code",
   "execution_count": 152,
   "id": "ff08c7c4-5761-4639-95b0-67b6299e9c8d",
   "metadata": {},
   "outputs": [],
   "source": [
    "dgm0 = np.array( [ x[1] for x in diag if x[0] == 0 if x[1][1] != np.inf ] )\n",
    "dgm1 = np.array( [ x[1] for x in diag if x[0] == 1 ] )\n",
    "dgm2 = np.array( [ x[1] for x in diag if x[0] == 2 ] )"
   ]
  },
  {
   "cell_type": "code",
   "execution_count": 153,
   "id": "fe12d553-aa85-436b-90bd-53d94935e012",
   "metadata": {},
   "outputs": [
    {
     "data": {
      "text/plain": [
       "(552, 2)"
      ]
     },
     "execution_count": 153,
     "metadata": {},
     "output_type": "execute_result"
    }
   ],
   "source": [
    "dgm2.shape"
   ]
  },
  {
   "cell_type": "markdown",
   "id": "94b80d95-5bdb-4f89-af6c-6123f7659f98",
   "metadata": {},
   "source": [
    "#### Prominent Points"
   ]
  },
  {
   "cell_type": "code",
   "execution_count": 155,
   "id": "d9abd305-38fb-4531-885d-da29948f1e28",
   "metadata": {},
   "outputs": [],
   "source": [
    "PrP = ProminentPoints(use = True, num_pts = 100, location='upper')"
   ]
  },
  {
   "cell_type": "code",
   "execution_count": 156,
   "id": "dfee694d-bd6f-414b-95ba-cc8268e5a0bb",
   "metadata": {
    "scrolled": true
   },
   "outputs": [],
   "source": [
    "Dgm0 = PrP(dgm0)\n",
    "Dgm1 = PrP(dgm1)\n",
    "Dgm2 = PrP(dgm2)\n",
    "#PrDiag.transform()"
   ]
  },
  {
   "cell_type": "markdown",
   "id": "65f6872a-5bba-4472-89a3-264eb590499b",
   "metadata": {},
   "source": [
    "#### Pad with zeros if necessary"
   ]
  },
  {
   "cell_type": "code",
   "execution_count": 182,
   "id": "905b0659-df54-4d07-88d0-ed9a97ca402c",
   "metadata": {},
   "outputs": [],
   "source": [
    "for dgm in [Dgm0, Dgm1, Dgm2]:\n",
    "    missing = 100 - dgm.shape[0]\n",
    "    if missing > 0:\n",
    "        dgm = np.pad( dgm, ((0,missing), (0,0)) )"
   ]
  },
  {
   "cell_type": "code",
   "execution_count": null,
   "id": "22d0a93f-a39d-4cdd-9ec6-df33a160ee9b",
   "metadata": {},
   "outputs": [],
   "source": [
    "missing = 100 - Dgm1.shape[0]\n",
    "if missing > 0:\n",
    "    Dgm1 = np.pad( Dgm1, ((0,missing), (0,0)) )\n",
    "\n",
    "missing = 100 - Dgm2.shape[0]\n",
    "if missing > 0:\n",
    "    Dgm2 = np.pad( Dgm2, ((0,missing), (0,0)) )"
   ]
  },
  {
   "cell_type": "markdown",
   "id": "7fa8a902-8e79-4763-8f20-57611735fb5c",
   "metadata": {},
   "source": [
    "#### Vectorize"
   ]
  },
  {
   "cell_type": "code",
   "execution_count": 158,
   "id": "08a2c0af-e97b-43a8-999d-8ee0f0553157",
   "metadata": {},
   "outputs": [],
   "source": []
  },
  {
   "cell_type": "code",
   "execution_count": 183,
   "id": "43084438-bebc-4f3a-bac7-54ed359533b8",
   "metadata": {},
   "outputs": [
    {
     "data": {
      "text/plain": [
       "(100,)"
      ]
     },
     "execution_count": 183,
     "metadata": {},
     "output_type": "execute_result"
    }
   ],
   "source": [
    "PerIm = PersistenceImage(resolution=(10,10))\n",
    "Img0 = PerIm(Dgm0)\n",
    "Img1 = PerIm(Dgm1)\n",
    "Img2 = PerIm(Dgm2)\n"
   ]
  },
  {
   "cell_type": "code",
   "execution_count": 175,
   "id": "1eb718f4-101d-4368-ba49-d3d56d682817",
   "metadata": {},
   "outputs": [],
   "source": [
    "Img = np.concatenate((Img0, Img1, Img2), axis=0, dtype = float)"
   ]
  },
  {
   "cell_type": "markdown",
   "id": "30ed9686-e84e-4d91-95e2-c70b2dadaa25",
   "metadata": {},
   "source": [
    "# Pipeline"
   ]
  },
  {
   "cell_type": "code",
   "execution_count": 37,
   "id": "6b04f5b8-f2f9-4f9d-bd78-38a82ad37aa5",
   "metadata": {},
   "outputs": [
    {
     "name": "stdout",
     "output_type": "stream",
     "text": [
      "1 out of 25\n",
      "/home/marco/CodeImati/SHREC25/small_data/train_set/105m_1:A:A_model1.vtk\n",
      "2 out of 25\n",
      "/home/marco/CodeImati/SHREC25/small_data/train_set/107m_1:A:A_model1.vtk\n",
      "3 out of 25\n",
      "/home/marco/CodeImati/SHREC25/small_data/train_set/110m_1:A:A_model1.vtk\n",
      "4 out of 25\n",
      "/home/marco/CodeImati/SHREC25/small_data/train_set/1myf_1:A:A_model10.vtk\n",
      "5 out of 25\n",
      "/home/marco/CodeImati/SHREC25/small_data/train_set/1myf_1:A:A_model11.vtk\n",
      "6 out of 25\n",
      "/home/marco/CodeImati/SHREC25/small_data/train_set/1myf_1:A:A_model5.vtk\n",
      "7 out of 25\n",
      "/home/marco/CodeImati/SHREC25/small_data/train_set/1myf_1:A:A_model7.vtk\n",
      "8 out of 25\n",
      "/home/marco/CodeImati/SHREC25/small_data/train_set/1myf_1:A:A_model8.vtk\n",
      "9 out of 25\n",
      "/home/marco/CodeImati/SHREC25/small_data/train_set/1myf_1:A:A_model9.vtk\n",
      "10 out of 25\n",
      "/home/marco/CodeImati/SHREC25/small_data/train_set/1ntm_8:H:H_model1.vtk\n",
      "11 out of 25\n",
      "/home/marco/CodeImati/SHREC25/small_data/train_set/1ntz_8:H:H_model1.vtk\n",
      "12 out of 25\n",
      "/home/marco/CodeImati/SHREC25/small_data/train_set/1nu1_8:H:H_model1.vtk\n",
      "13 out of 25\n",
      "/home/marco/CodeImati/SHREC25/small_data/train_set/1nz3_1:A:A_model1.vtk\n",
      "14 out of 25\n",
      "/home/marco/CodeImati/SHREC25/small_data/train_set/1nz5_1:A:A_model1.vtk\n",
      "15 out of 25\n",
      "/home/marco/CodeImati/SHREC25/small_data/train_set/1o1a_4:CA:3_model1.vtk\n",
      "16 out of 25\n",
      "/home/marco/CodeImati/SHREC25/small_data/train_set/1o1a_4:DA:4_model1.vtk\n",
      "17 out of 25\n",
      "/home/marco/CodeImati/SHREC25/small_data/train_set/1o1a_4:EA:5_model1.vtk\n",
      "18 out of 25\n",
      "/home/marco/CodeImati/SHREC25/small_data/train_set/1o1b_4:W:W_model1.vtk\n",
      "19 out of 25\n",
      "/home/marco/CodeImati/SHREC25/small_data/train_set/2hnz_1:A:A_model1.vtk\n",
      "20 out of 25\n",
      "/home/marco/CodeImati/SHREC25/small_data/train_set/2hw8_2:B:A_model1.vtk\n",
      "21 out of 25\n",
      "/home/marco/CodeImati/SHREC25/small_data/train_set/2i72_1:B:B_model1.vtk\n",
      "22 out of 25\n",
      "/home/marco/CodeImati/SHREC25/small_data/train_set/2in4_1:A:A_model1.vtk\n",
      "23 out of 25\n",
      "/home/marco/CodeImati/SHREC25/small_data/train_set/2jiz_3:G:G_model1.vtk\n",
      "24 out of 25\n",
      "/home/marco/CodeImati/SHREC25/small_data/train_set/2jiz_3:N:N_model1.vtk\n",
      "25 out of 25\n",
      "/home/marco/CodeImati/SHREC25/small_data/train_set/2jj1_3:G:G_model1.vtk\n"
     ]
    }
   ],
   "source": [
    "# number of prominent points to keep for each dimension for each PD\n",
    "Num_Prominent = 200\n",
    "# resolution of each axis for the persistent images\n",
    "PersImPoints = 2\n",
    "# amount of variance to reach to choose how many components to keep for kernel PCA\n",
    "TotVar = 0.95\n",
    "# Which fraction of N_Files is the maximum number of dimensions acceptable\n",
    "FractionOfN_Files = 2\n",
    "\n",
    "source = DataSource( './small_data/train_set/', base_path='./small_data/train_set')\n",
    "# vector of labels\n",
    "labels = []\n",
    "\n",
    "N_Files = len(list(source))\n",
    "data = np.zeros( (3*(PersImPoints**2), N_Files) )\n",
    "\n",
    "# read the labels\n",
    "Truth = {}\n",
    "with open('./small_data/train_set.csv', 'r') as csvfile:\n",
    "    truths = csv.reader(csvfile)\n",
    "\n",
    "    next(truths, None) # skip first row, it's a header\n",
    "    for t in truths:\n",
    "        Truth[t[0]] = int(t[1])\n",
    "\n",
    "source = DataSource( './small_data/train_set/', base_path='./small_data/train_set')\n",
    "\n",
    "for j,s in enumerate(source):\n",
    "\n",
    "    print(j+1, 'out of', N_Files)\n",
    "    print(s)\n",
    "\n",
    "    # Find the label for the protein we are reading\n",
    "    filename = os.path.basename(s)\n",
    "    filename = os.path.splitext(filename)[0]\n",
    "    labels.append(Truth[filename])\n",
    "\n",
    "    points = read_vertices_VTK(s , out_var=True).tolist()\n",
    "    st = AlphaComplex(points=points).create_simplex_tree() # Alpha complex\n",
    "\n",
    "    st.compute_persistence(homology_coeff_field=2, persistence_dim_max=1) # persistence\n",
    "    diag = st.persistence()\n",
    "\n",
    "    dgm0 = np.array( [ x[1] for x in diag if x[0] == 0 if x[1][1] != np.inf ] ) # to numpy\n",
    "    dgm1 = np.array( [ x[1] for x in diag if x[0] == 1 ] )\n",
    "    dgm2 = np.array( [ x[1] for x in diag if x[0] == 2 ] )\n",
    "\n",
    "    # Prominent points\n",
    "    PrP = ProminentPoints(use = True, num_pts = Num_Prominent, location='upper')\n",
    "\n",
    "    Dgm0 = PrP(dgm0)\n",
    "    Dgm1 = PrP(dgm1)\n",
    "    Dgm2 = PrP(dgm2)\n",
    "\n",
    "    # pad with zeros if necessary\n",
    "    for dgm in [Dgm0, Dgm1, Dgm2]:\n",
    "        missing = Num_Prominent - dgm.shape[0]\n",
    "        if missing > 0:\n",
    "            dgm = np.pad( dgm, ((0,missing), (0,0)) )\n",
    "\n",
    "    # Compute persistence images\n",
    "    PersIm = PersistenceImage(resolution=(PersImPoints,PersImPoints))\n",
    "    Img0 = PersIm(Dgm0)\n",
    "    Img1 = PersIm(Dgm1)\n",
    "    Img2 = PersIm(Dgm2)\n",
    "\n",
    "    # concatenate\n",
    "    Img = np.concatenate((Img0, Img1, Img2), axis=0, dtype = float)\n",
    "\n",
    "    data[:,j] = Img\n",
    "\n",
    "# save descriptors\n",
    "np.save('PersImages.npy', data.T)\n",
    "np.save('Labels.npy', np.array(labels) )"
   ]
  },
  {
   "cell_type": "markdown",
   "id": "c2fbf6b8-043f-4ec5-87a6-aa505e7b7074",
   "metadata": {},
   "source": [
    "#### Stratified sampling"
   ]
  },
  {
   "cell_type": "code",
   "execution_count": 68,
   "id": "37effbed-2c0b-4bff-b21d-f883d5fc726e",
   "metadata": {},
   "outputs": [
    {
     "data": {
      "text/plain": [
       "array([19, 88, 39, 19, 19, 19, 19, 19, 19, 46, 46, 46, 88, 88, 90, 90, 90,\n",
       "       90, 32,  6, 54, 15, 38, 38, 38])"
      ]
     },
     "execution_count": 68,
     "metadata": {},
     "output_type": "execute_result"
    }
   ],
   "source": [
    "np.unique(labels)\n",
    "labels"
   ]
  },
  {
   "cell_type": "code",
   "execution_count": 57,
   "id": "caed2cb6-b2de-4786-bb89-5433d5f8d2d3",
   "metadata": {},
   "outputs": [
    {
     "name": "stdout",
     "output_type": "stream",
     "text": [
      "(25, 12) (25,)\n"
     ]
    },
    {
     "ename": "ValueError",
     "evalue": "The least populated class in y has only 1 member, which is too few. The minimum number of groups for any class cannot be less than 2.",
     "output_type": "error",
     "traceback": [
      "\u001b[0;31m---------------------------------------------------------------------------\u001b[0m",
      "\u001b[0;31mValueError\u001b[0m                                Traceback (most recent call last)",
      "Cell \u001b[0;32mIn[57], line 11\u001b[0m\n\u001b[1;32m      7\u001b[0m StrShSp \u001b[38;5;241m=\u001b[39m StratifiedShuffleSplit(n_splits\u001b[38;5;241m=\u001b[39m\u001b[38;5;241m1\u001b[39m, test_size\u001b[38;5;241m=\u001b[39m\u001b[38;5;241m0.2\u001b[39m, random_state\u001b[38;5;241m=\u001b[39m\u001b[38;5;241m42\u001b[39m)\n\u001b[1;32m      9\u001b[0m \u001b[38;5;28mprint\u001b[39m(data\u001b[38;5;241m.\u001b[39mshape, labels\u001b[38;5;241m.\u001b[39mshape)\n\u001b[0;32m---> 11\u001b[0m \u001b[38;5;28;01mfor\u001b[39;00m train_idx, val_idx \u001b[38;5;129;01min\u001b[39;00m StrShSp\u001b[38;5;241m.\u001b[39msplit(data, labels):\n\u001b[1;32m     13\u001b[0m     \u001b[38;5;28;01mpass\u001b[39;00m\n",
      "File \u001b[0;32m~/.local/lib/python3.10/site-packages/sklearn/model_selection/_split.py:1909\u001b[0m, in \u001b[0;36mBaseShuffleSplit.split\u001b[0;34m(self, X, y, groups)\u001b[0m\n\u001b[1;32m   1879\u001b[0m \u001b[38;5;124;03m\"\"\"Generate indices to split data into training and test set.\u001b[39;00m\n\u001b[1;32m   1880\u001b[0m \n\u001b[1;32m   1881\u001b[0m \u001b[38;5;124;03mParameters\u001b[39;00m\n\u001b[0;32m   (...)\u001b[0m\n\u001b[1;32m   1906\u001b[0m \u001b[38;5;124;03mto an integer.\u001b[39;00m\n\u001b[1;32m   1907\u001b[0m \u001b[38;5;124;03m\"\"\"\u001b[39;00m\n\u001b[1;32m   1908\u001b[0m X, y, groups \u001b[38;5;241m=\u001b[39m indexable(X, y, groups)\n\u001b[0;32m-> 1909\u001b[0m \u001b[38;5;28;01mfor\u001b[39;00m train, test \u001b[38;5;129;01min\u001b[39;00m \u001b[38;5;28mself\u001b[39m\u001b[38;5;241m.\u001b[39m_iter_indices(X, y, groups):\n\u001b[1;32m   1910\u001b[0m     \u001b[38;5;28;01myield\u001b[39;00m train, test\n",
      "File \u001b[0;32m~/.local/lib/python3.10/site-packages/sklearn/model_selection/_split.py:2318\u001b[0m, in \u001b[0;36mStratifiedShuffleSplit._iter_indices\u001b[0;34m(self, X, y, groups)\u001b[0m\n\u001b[1;32m   2316\u001b[0m class_counts \u001b[38;5;241m=\u001b[39m np\u001b[38;5;241m.\u001b[39mbincount(y_indices)\n\u001b[1;32m   2317\u001b[0m \u001b[38;5;28;01mif\u001b[39;00m np\u001b[38;5;241m.\u001b[39mmin(class_counts) \u001b[38;5;241m<\u001b[39m \u001b[38;5;241m2\u001b[39m:\n\u001b[0;32m-> 2318\u001b[0m     \u001b[38;5;28;01mraise\u001b[39;00m \u001b[38;5;167;01mValueError\u001b[39;00m(\n\u001b[1;32m   2319\u001b[0m         \u001b[38;5;124m\"\u001b[39m\u001b[38;5;124mThe least populated class in y has only 1\u001b[39m\u001b[38;5;124m\"\u001b[39m\n\u001b[1;32m   2320\u001b[0m         \u001b[38;5;124m\"\u001b[39m\u001b[38;5;124m member, which is too few. The minimum\u001b[39m\u001b[38;5;124m\"\u001b[39m\n\u001b[1;32m   2321\u001b[0m         \u001b[38;5;124m\"\u001b[39m\u001b[38;5;124m number of groups for any class cannot\u001b[39m\u001b[38;5;124m\"\u001b[39m\n\u001b[1;32m   2322\u001b[0m         \u001b[38;5;124m\"\u001b[39m\u001b[38;5;124m be less than 2.\u001b[39m\u001b[38;5;124m\"\u001b[39m\n\u001b[1;32m   2323\u001b[0m     )\n\u001b[1;32m   2325\u001b[0m \u001b[38;5;28;01mif\u001b[39;00m n_train \u001b[38;5;241m<\u001b[39m n_classes:\n\u001b[1;32m   2326\u001b[0m     \u001b[38;5;28;01mraise\u001b[39;00m \u001b[38;5;167;01mValueError\u001b[39;00m(\n\u001b[1;32m   2327\u001b[0m         \u001b[38;5;124m\"\u001b[39m\u001b[38;5;124mThe train_size = \u001b[39m\u001b[38;5;132;01m%d\u001b[39;00m\u001b[38;5;124m should be greater or \u001b[39m\u001b[38;5;124m\"\u001b[39m\n\u001b[1;32m   2328\u001b[0m         \u001b[38;5;124m\"\u001b[39m\u001b[38;5;124mequal to the number of classes = \u001b[39m\u001b[38;5;132;01m%d\u001b[39;00m\u001b[38;5;124m\"\u001b[39m \u001b[38;5;241m%\u001b[39m (n_train, n_classes)\n\u001b[1;32m   2329\u001b[0m     )\n",
      "\u001b[0;31mValueError\u001b[0m: The least populated class in y has only 1 member, which is too few. The minimum number of groups for any class cannot be less than 2."
     ]
    }
   ],
   "source": [
    "# load descriptors\n",
    "data = np.load('PersImages.npy').T\n",
    "labels = np.load('Labels.npy')\n",
    "\n",
    "\n",
    "StrShSp = StratifiedShuffleSplit(n_splits=1, test_size=0.2, random_state=42)\n",
    "\n",
    "print(data.shape, labels.shape)\n",
    "\n",
    "for train_idx, val_idx in StrShSp.split(data, labels):\n",
    "\n",
    "    pass"
   ]
  },
  {
   "cell_type": "markdown",
   "id": "f0df4817-2fe7-4081-ab8e-f47ccfab4727",
   "metadata": {},
   "source": [
    "#### Train classifier"
   ]
  },
  {
   "cell_type": "code",
   "execution_count": null,
   "id": "08effa19-d2c1-4523-a832-ede361c853a4",
   "metadata": {},
   "outputs": [
    {
     "name": "stdout",
     "output_type": "stream",
     "text": [
      "12 features explain more than 0.95 % of variance\n",
      "Keeping 12 features\n"
     ]
    }
   ],
   "source": [
    "# setup radial basis function kernel PCA\n",
    "kPca = KernelPCA(kernel='rbf')\n",
    "kPcaData = kPca.fit_transform(data.T)\n",
    "\n",
    "# Cumulative sum of variance explained by each component\n",
    "VarBreakdown = np.cumsum(kPca.eigenvalues_) / np.sum(kPca.eigenvalues_)\n",
    "# Keep only as many as neeeded to explain TotVar of variance\n",
    "Dims_to_keep = np.argwhere(VarBreakdown < TotVar).shape[0] + 1 # +1 to get above TotVar\n",
    "\n",
    "print(Dims_to_keep, 'features explain more than',TotVar, '% of variance')\n",
    "\n",
    "# BUT make sure it's not more than a fraction of N_Files\n",
    "Dims_to_keep = min( Dims_to_keep , int(N_Files/FractionOfN_Files) )\n",
    "\n",
    "print('Keeping', Dims_to_keep, 'features')\n",
    "\n",
    "kPcaData = kPcaData[ : , 0:Dims_to_keep ]\n",
    "\n",
    "\n",
    "# Random Forest\n",
    "\n",
    "forest = RandomForestClassifier(n_estimators=100, criterion='entropy')\n",
    "forest.fit(kPcaData, labels)\n",
    "joblib.dump(forest , 'model.pkl');"
   ]
  },
  {
   "cell_type": "code",
   "execution_count": 39,
   "id": "b563f45b-c49d-4507-aa43-ead24371bcb7",
   "metadata": {},
   "outputs": [],
   "source": [
    "forest= joblib.load('model.pkl')"
   ]
  },
  {
   "cell_type": "code",
   "execution_count": 42,
   "id": "9baa8b09-7249-4f34-a2f7-faa33ca67ec3",
   "metadata": {},
   "outputs": [
    {
     "data": {
      "text/plain": [
       "array([0.09518403, 0.08770309, 0.11220149, 0.04393608, 0.09182755,\n",
       "       0.08059266, 0.11496085, 0.11121791, 0.11991512, 0.08570547,\n",
       "       0.02151432, 0.03524143])"
      ]
     },
     "execution_count": 42,
     "metadata": {},
     "output_type": "execute_result"
    }
   ],
   "source": [
    "forest.feature_importances_"
   ]
  },
  {
   "cell_type": "code",
   "execution_count": 241,
   "id": "2583ba74-463a-4c82-b648-f617c1bf21c6",
   "metadata": {},
   "outputs": [
    {
     "data": {
      "text/plain": [
       "(242, 2)"
      ]
     },
     "execution_count": 241,
     "metadata": {},
     "output_type": "execute_result"
    }
   ],
   "source": [
    "(data > .00001).nonzero\n",
    "np.argwhere( data > .0001).shape"
   ]
  },
  {
   "cell_type": "code",
   "execution_count": null,
   "id": "47a1770b-7bea-458b-bb5e-dd455a9bb8bd",
   "metadata": {},
   "outputs": [],
   "source": [
    "TotVar = .95\n"
   ]
  },
  {
   "cell_type": "markdown",
   "id": "ca0eb7b7-d8fe-485c-9cc7-fa09e313792a",
   "metadata": {},
   "source": [
    "#### Subsampling\n",
    "Create a smaller dataset"
   ]
  },
  {
   "cell_type": "code",
   "execution_count": 40,
   "id": "dff87467-bb38-4b67-ba9e-2d670cf02c80",
   "metadata": {},
   "outputs": [],
   "source": [
    "from src.sampling import build_samples"
   ]
  },
  {
   "cell_type": "code",
   "execution_count": 41,
   "id": "006f1ce7-8940-49f3-bf8c-4d8869d4d04a",
   "metadata": {},
   "outputs": [
    {
     "data": {
      "image/png": "[encoded data removed]",
      "text/plain": [
       "<Figure size 432x720 with 3 Axes>"
      ]
     },
     "metadata": {
      "needs_background": "light"
     },
     "output_type": "display_data"
    }
   ],
   "source": [
    "snames, slabels, ax = build_samples(900, all_classes=True, plot=True)"
   ]
  },
  {
   "cell_type": "code",
   "execution_count": 42,
   "id": "fb25e97d-8a8b-4772-9b38-6b9d704a78d9",
   "metadata": {},
   "outputs": [
    {
     "data": {
      "text/plain": [
       "True"
      ]
     },
     "execution_count": 42,
     "metadata": {},
     "output_type": "execute_result"
    }
   ],
   "source": [
    "snames = np.array(snames, dtype=str)\n",
    "ids, counts = np.unique(snames,return_counts=True)\n",
    "np.all(counts == 1)"
   ]
  },
  {
   "cell_type": "markdown",
   "id": "6edb6363-0e7b-40b0-a466-7273e0196e2d",
   "metadata": {},
   "source": [
    "Now **IF THE FOLDER** `/small_data` **IS EMPTY** copy the files in `sampled_names` from `/data/train_set` to `/small_data/train_set`"
   ]
  },
  {
   "cell_type": "markdown",
   "id": "6f67c9a5-bdd8-4083-8c2d-322d4dbed572",
   "metadata": {
    "collapsed": true,
    "jupyter": {
     "outputs_hidden": true
    }
   },
   "source": [
    "for name in snames:\n",
    "\n",
    "    name = name + '.vtk'\n",
    "    filepath = os.path.join('./data/data/train_set' , name)\n",
    "\n",
    "    newpath = os.path.join('./data/small_data/train_set' , name)\n",
    "\n",
    "    print(filepath)\n",
    "    print(newpath)\n",
    "\n",
    "    os.system('cp '+filepath + ' '+newpath)\n"
   ]
  },
  {
   "cell_type": "markdown",
   "id": "247084aa-7e91-4a47-b6ca-a4f7c19ec3a8",
   "metadata": {},
   "source": [
    "## Clearing corrupted data"
   ]
  },
  {
   "cell_type": "code",
   "execution_count": 102,
   "id": "70e3e29c-378e-4315-b550-6fa068a6e3c9",
   "metadata": {},
   "outputs": [],
   "source": [
    "from src.data_reader import num_vertices_VTK\n",
    "source = DataSource( './data/data/test_set/', base_path='./data/dat/test_set')\n",
    "\n",
    "PointLens = []\n",
    "suspect_files = []\n",
    "\n",
    "for j,s in enumerate(source):\n",
    "\n",
    "    size = num_vertices_VTK(s)\n",
    "\n",
    "    PointLens.append(size)\n",
    "\n",
    "    if 0 <= size <= 4000:\n",
    "        suspect_files.append(s)\n"
   ]
  },
  {
   "cell_type": "code",
   "execution_count": 103,
   "id": "991f9ca5-d8a6-49be-9e9b-247e7f72ed65",
   "metadata": {},
   "outputs": [
    {
     "data": {
      "text/plain": [
       "1"
      ]
     },
     "execution_count": 103,
     "metadata": {},
     "output_type": "execute_result"
    }
   ],
   "source": [
    "len(suspect_files)"
   ]
  },
  {
   "cell_type": "code",
   "execution_count": 104,
   "id": "4fc688ef-4396-46fe-83a3-046860390699",
   "metadata": {},
   "outputs": [],
   "source": [
    "for f in suspect_files:\n",
    "\n",
    "    f = str(f)\n",
    "    os.system( 'cp ' + f + ' ./suspect/' )\n",
    "\n",
    "\n"
   ]
  },
  {
   "cell_type": "code",
   "execution_count": 120,
   "id": "76680216-ccd8-4ee7-aa36-8673c985bdcf",
   "metadata": {},
   "outputs": [],
   "source": [
    "PointLens = np.array(PointLens)\n",
    "counts, bin_edges = np.histogram(PointLens, bins = 70)"
   ]
  },
  {
   "cell_type": "code",
   "execution_count": 124,
   "id": "6cdf0799-b10d-4231-935b-eaa236e7d7c3",
   "metadata": {},
   "outputs": [
    {
     "data": {
      "image/png": "[encoded data removed]",
      "text/plain": [
       "<Figure size 432x288 with 1 Axes>"
      ]
     },
     "metadata": {
      "needs_background": "light"
     },
     "output_type": "display_data"
    },
    {
     "name": "stderr",
     "output_type": "stream",
     "text": [
      "/tmp/ipykernel_22352/1241263367.py:10: MatplotlibDeprecationWarning: savefig() got unexpected keyword argument \"bbox\" which is no longer supported as of 3.3 and will become an error in 3.6\n",
      "  plt.savefig('SizeHist.png', facecolor='white', bbox='tight')\n"
     ]
    },
    {
     "data": {
      "text/plain": [
       "<Figure size 432x288 with 0 Axes>"
      ]
     },
     "metadata": {},
     "output_type": "display_data"
    }
   ],
   "source": [
    "import matplotlib.pyplot as plt\n",
    "\n",
    "# Plot histogram\n",
    "plt.bar(bin_edges[:-1], counts, width=np.diff(bin_edges), edgecolor='black', alpha=0.7)\n",
    "plt.xlabel('# of points')\n",
    "plt.ylabel('Frequency')\n",
    "plt.title('Histogram of Size')\n",
    "plt.show()"
   ]
  },
  {
   "cell_type": "code",
   "execution_count": 122,
   "id": "8d83d93f-cf15-44c5-ab32-c051e768a041",
   "metadata": {},
   "outputs": [],
   "source": [
    "CumSum = np.zeros((8000))\n",
    "for i in range(8000):\n",
    "    j = i + 1334\n",
    "    CumSum[i] = np.where(PointLens < j)[0].shape[0]"
   ]
  },
  {
   "cell_type": "code",
   "execution_count": 123,
   "id": "6384677a-fd14-40bc-975e-cd6896eb68a2",
   "metadata": {},
   "outputs": [
    {
     "data": {
      "image/png": "[encoded data removed]",
      "text/plain": [
       "<Figure size 432x288 with 1 Axes>"
      ]
     },
     "metadata": {
      "needs_background": "light"
     },
     "output_type": "display_data"
    }
   ],
   "source": [
    "plt.plot(np.arange(len(CumSum)), CumSum, linestyle='-', color='k')\n",
    "plt.title('Cumulative # of proteins with $\\leq$ n points')\n",
    "plt.xlabel('n of points')\n",
    "plt.ylabel('#')"
   ]
  },
  {
   "cell_type": "code",
   "execution_count": 107,
   "id": "f40550c4-f300-4d33-92b8-d289da853ae0",
   "metadata": {},
   "outputs": [
    {
     "data": {
      "text/plain": [
       "1334"
      ]
     },
     "execution_count": 107,
     "metadata": {},
     "output_type": "execute_result"
    }
   ],
   "source": [
    "np.min(PointLens)"
   ]
  },
  {
   "cell_type": "markdown",
   "id": "e1129047-33e3-4a2f-8a50-1d527a301f75",
   "metadata": {},
   "source": [
    "### Dimensionality reduction"
   ]
  },
  {
   "cell_type": "code",
   "execution_count": 237,
   "id": "218bcd5e-dea5-4c6b-95c8-dafe3b104188",
   "metadata": {},
   "outputs": [
    {
     "data": {
      "text/plain": [
       "(12, 25)"
      ]
     },
     "execution_count": 237,
     "metadata": {},
     "output_type": "execute_result"
    }
   ],
   "source": [
    "from sklearn.decomposition import PCA, KernelPCA\n",
    "\n",
    "kPca = KernelPCA(kernel='rbf')\n",
    "kPcaData = kPca.fit_transform(data.T)\n",
    "\n",
    "# Cumulative sum of variance explained by each component\n",
    "VarBreakdown = np.cumsum(kPca.eigenvalues_) / np.sum(kPca.eigenvalues_)\n",
    "# Keep only as many as neeeded to explain TotVar of variance\n",
    "Dims_to_keep = np.argwhere(VarBreakdown < TotVar).shape[0] + 1 # +1 to get above TotVar\n",
    "\n",
    "kPcaData = kPcaData[ : , 0:Dims_to_keep ].T\n",
    "kPcaData.shape"
   ]
  },
  {
   "cell_type": "code",
   "execution_count": 238,
   "id": "1b0014cf-6d48-454b-ae6e-7a41141ff392",
   "metadata": {},
   "outputs": [
    {
     "data": {
      "text/plain": [
       "(12, 25)"
      ]
     },
     "execution_count": 238,
     "metadata": {},
     "output_type": "execute_result"
    }
   ],
   "source": [
    "kPcaData.shape"
   ]
  },
  {
   "cell_type": "code",
   "execution_count": 223,
   "id": "5a6c1ab0-e541-47dc-9428-bbe4c901765c",
   "metadata": {},
   "outputs": [
    {
     "data": {
      "text/plain": [
       "[4.928193519788642,\n",
       " 3.516912283137384,\n",
       " 1.708473723057742,\n",
       " 1.5352569171294446,\n",
       " 1.3370994384312747,\n",
       " 1.1082147172451462,\n",
       " 0.9998197328353234,\n",
       " 0.9995321918994153,\n",
       " 0.7674605101682115,\n",
       " 0.7239161482726562,\n",
       " 0.40011039121464825,\n",
       " 0.38607765413051015,\n",
       " 0.2696482931783125,\n",
       " 0.22499687331205662,\n",
       " 0.154087308226054,\n",
       " 0.12374352994549866,\n",
       " 0.07078477553164042,\n",
       " 0.04616555084286415,\n",
       " 0.022177663110648286,\n",
       " 0.01509907672404707,\n",
       " 0.005840694575036913,\n",
       " 0.0056130301105017455,\n",
       " 0.0027415047501514085,\n",
       " 0.0013948233191171376]"
      ]
     },
     "execution_count": 223,
     "metadata": {},
     "output_type": "execute_result"
    }
   ],
   "source": [
    "kPca.eigenvalues_.tolist()"
   ]
  },
  {
   "cell_type": "code",
   "execution_count": 226,
   "id": "e02a0a6d-f1a6-4a9a-89cd-2b21e4dc29d6",
   "metadata": {},
   "outputs": [
    {
     "data": {
      "text/plain": [
       "array([0.25464278, 0.4363638 , 0.52464168, 0.60396935, 0.6730581 ,\n",
       "       0.73032023, 0.78198153, 0.83362797, 0.87328313, 0.91068832,\n",
       "       0.93136227, 0.95131114, 0.96524403, 0.97686976, 0.98483154,\n",
       "       0.99122545, 0.99488294, 0.99726834, 0.99841427, 0.99919445,\n",
       "       0.99949624, 0.99978627, 0.99992793, 1.        ])"
      ]
     },
     "execution_count": 226,
     "metadata": {},
     "output_type": "execute_result"
    }
   ],
   "source": []
  },
  {
   "cell_type": "code",
   "execution_count": 227,
   "id": "ed74a4e1-c01a-4927-a803-591cbd3e2307",
   "metadata": {},
   "outputs": [
    {
     "data": {
      "text/plain": [
       "(24,)"
      ]
     },
     "execution_count": 227,
     "metadata": {},
     "output_type": "execute_result"
    }
   ],
   "source": [
    "kPca.eigenvalues_.shape"
   ]
  },
  {
   "cell_type": "markdown",
   "id": "8aa42985-b041-4a75-a2c6-f71f2ee8e129",
   "metadata": {},
   "source": [
    "# Scrap"
   ]
  },
  {
   "cell_type": "markdown",
   "id": "42d0e2de-9d2b-4d7b-b51c-a27bb248cc2e",
   "metadata": {},
   "source": [
    "#### Plotting"
   ]
  },
  {
   "cell_type": "code",
   "execution_count": 38,
   "id": "81b48a0c-0a2e-4785-a92a-8c0744e89458",
   "metadata": {
    "jupyter": {
     "source_hidden": true
    }
   },
   "outputs": [],
   "source": [
    "import matplotlib.pyplot as plt\n",
    "\n",
    "import itertools\n",
    "\n",
    "def draw_2d_simplicial_complex(simplices, limits, pos=None, return_pos=False, fig = None, markedEdges=None):\n",
    "    \"\"\"\n",
    "    Draw a simplicial complex up to dimension 2 from a list of simplices\n",
    "        \n",
    "        Args\n",
    "        ----\n",
    "        simplices: list of lists of integerss\n",
    "            List of simplices to draw. Sub-simplices are not needed (only maximal).\n",
    "            For example, the 2-simplex [1,2,3] will automatically generate the three\n",
    "            1-simplices [1,2],[2,3],[1,3] and the three 0-simplices [1],[2],[3].\n",
    "            When a higher order simplex is entered only its sub-simplices\n",
    "            up to D=2 will be drawn.\n",
    "            \n",
    "        limits: a list of the form [ [x_min , x_max] , [y_min , y_max] ] to define the\n",
    "            area to plot. Elements must be int or float\n",
    "        \n",
    "        pos: dict (default=None)\n",
    "            If passed, this dictionary of positions d:(x,y) is used for placing the 0-simplices.\n",
    "            The standard nx spring layour is used otherwise.\n",
    "           \n",
    "        ax: matplotlib.pyplot.axes (default=None)\n",
    "        \n",
    "        return_pos: dict (default=False)\n",
    "            If True returns the dictionary of positions for the 0-simplices.\n",
    "            \n",
    "    \"\"\"\n",
    "\n",
    "    \n",
    "    #List of 0-simplices\n",
    "    nodes =list(set(itertools.chain(*simplices)))\n",
    "    \n",
    "    #List of 1-simplices\n",
    "    edges = list(set(itertools.chain(*[[tuple(sorted((i, j))) for i, j in itertools.combinations(simplex, 2)] for simplex in simplices])))\n",
    "\n",
    "    #List of 2-simplices\n",
    "    triangles = list(set(itertools.chain(*[[tuple(sorted((i, j, k))) for i, j, k in itertools.combinations(simplex, 3)] for simplex in simplices])))\n",
    "    \n",
    "    fig, ax = plt.subplots(figsize=(7,7))\n",
    "    ax.set_xlim(limits[0])      \n",
    "    ax.set_ylim(limits[1])\n",
    "\n",
    "    ax.get_xaxis().set_ticks([])  \n",
    "    ax.get_yaxis().set_ticks([])\n",
    "    ax.axis('on')\n",
    "       \n",
    "    if pos is None:\n",
    "        # Creating a networkx Graph from the edgelist\n",
    "        G = nx.Graph()\n",
    "        G.add_edges_from(edges)\n",
    "        # Creating a dictionary for the position of the nodes\n",
    "        pos = nx.spring_layout(G)\n",
    "        \n",
    "    # Drawing the edges\n",
    "    for i, j in edges:\n",
    "        (x0, y0) = pos[i]\n",
    "        (x1, y1) = pos[j]\n",
    "        line = plt.Line2D([ x0, x1 ], [y0, y1 ],color = 'blue', zorder = 1, lw=1.5)\n",
    "        ax.add_line(line);\n",
    "    \n",
    "    # Filling in the triangles\n",
    "    for i, j, k in triangles:\n",
    "        (x0, y0) = pos[i]\n",
    "        (x1, y1) = pos[j]\n",
    "        (x2, y2) = pos[k]\n",
    "        tri = plt.Polygon([ [ x0, y0 ], [ x1, y1 ], [ x2, y2 ] ],\n",
    "                          edgecolor = 'white', facecolor = plt.cm.Blues(0.6),\n",
    "                          zorder = 2, alpha=0.4, lw=0.5)\n",
    "        ax.add_patch(tri);\n",
    "        \n",
    "    # AGGIUNTA MIA \n",
    "    # HIGHLIGHTED EDGES\n",
    "    if markedEdges is not None:\n",
    "            for i,j in markedEdges:\n",
    "                (x0 , y0) = pos[i]\n",
    "                (x1 , y1) = pos[j]\n",
    "                line = plt.Line2D([ x0, x1 ], [y0, y1 ],color = u'#ff7f0e', zorder = 3, lw=2)\n",
    "                ax.add_line(line);\n",
    "\n",
    "    # Drawing the nodes \n",
    "    #for i in nodes:\n",
    "    for i in range(len(pos)):\n",
    "        (x, y) = pos[i]\n",
    "        #  radius was 0.1\n",
    "        circ = plt.Circle([ x, y ], radius = 0.015, zorder = 4, lw=0.5,\n",
    "                          edgecolor = 'Black', facecolor = u'#ff7f0e')\n",
    "        ax.add_patch(circ);\n",
    "        \n",
    "#     for i in nodes:\n",
    "        \n",
    "#         (x, y) = posLabels[i]\n",
    "#         string = ' $x_{' + str(i) + '}$'\n",
    "        \n",
    "#         ax.text(x,y,string, color='black')\n",
    "        \n",
    "\n",
    "    return fig"
   ]
  },
  {
   "cell_type": "code",
   "execution_count": 39,
   "id": "f56ca299-2539-48a9-aaa1-61f90795f61d",
   "metadata": {},
   "outputs": [],
   "source": [
    "from gudhi import DelaunayComplex"
   ]
  },
  {
   "cell_type": "markdown",
   "id": "55d42b37-939e-4af8-955d-20e1ed245548",
   "metadata": {},
   "source": [
    "### Generate points"
   ]
  },
  {
   "cell_type": "code",
   "execution_count": 104,
   "id": "eef87020-6230-4106-8bd3-c378a64896f0",
   "metadata": {},
   "outputs": [],
   "source": [
    "points = np.array( [[ 1.0 , 1.0 ], [1.0 , 2.0], [2.0, 1.5]] )\n",
    "points = np.random.random( (3,2) )\n",
    "points = points + np.array([ -1,-1 ])\n",
    "points = np.concatenate([points, np.random.random((3,2)) + np.array([-1,1])])\n",
    "points = np.concatenate([points, np.random.random((3,2)) + np.array([1,-1])])\n",
    "points = np.concatenate([points, np.random.random((3,2))])\n",
    "points = points + np.array([2,2])"
   ]
  },
  {
   "cell_type": "code",
   "execution_count": 254,
   "id": "c96a9a10-5a78-4925-81d9-55d7124c5253",
   "metadata": {},
   "outputs": [],
   "source": [
    "points = np.array( [ [1,1], [1.5,2] , [1.8, .7] , [2,2] , [2.5,2.5] ] )\n",
    "points = np.concatenate([points, np.random.random((4,2))])"
   ]
  },
  {
   "cell_type": "code",
   "execution_count": 271,
   "id": "bddad861-c607-46f5-a411-1d8f9ecf364f",
   "metadata": {},
   "outputs": [],
   "source": [
    "simplices = [ [0,1] , [0,2] , [1,3] , [2,3] , [1,2,3] , [4] ]\n",
    "simplices = [ [0,1] , [0,2] , [1,3] , [2,3] , [4] ,[5],[6],[7]]"
   ]
  },
  {
   "cell_type": "code",
   "execution_count": 272,
   "id": "a3450ee3-c37d-4765-bb89-db4feb339d67",
   "metadata": {},
   "outputs": [],
   "source": [
    "centerPoint = np.array([0.0, 0.0])\n",
    "\n",
    "filtr_val = lambda p : np.linalg.norm( p - centerPoint )"
   ]
  },
  {
   "cell_type": "code",
   "execution_count": 273,
   "id": "30e34acc-3f3c-4316-b765-db567f45273c",
   "metadata": {},
   "outputs": [
    {
     "data": {
      "text/plain": [
       "1.9313207915827966"
      ]
     },
     "execution_count": 273,
     "metadata": {},
     "output_type": "execute_result"
    }
   ],
   "source": [
    "filtr_val(points[2,:])"
   ]
  },
  {
   "cell_type": "markdown",
   "id": "f12d1f1e-6701-4e62-807b-896a0fff5c54",
   "metadata": {},
   "source": [
    "#### Generate the Delaunay complex, with no filtration values"
   ]
  },
  {
   "cell_type": "code",
   "execution_count": 274,
   "id": "38babea9-ab1b-46c5-963a-d69d9e4cbe14",
   "metadata": {},
   "outputs": [],
   "source": [
    "dc = DelaunayComplex(points)"
   ]
  },
  {
   "cell_type": "code",
   "execution_count": 215,
   "id": "c4b665b2-ab49-42d9-90ca-29d74d27e575",
   "metadata": {},
   "outputs": [],
   "source": [
    "st = dc.create_simplex_tree()"
   ]
  },
  {
   "cell_type": "code",
   "execution_count": 167,
   "id": "a1e81181-2908-42f9-9201-3675f01e2490",
   "metadata": {
    "scrolled": true
   },
   "outputs": [
    {
     "name": "stdout",
     "output_type": "stream",
     "text": [
      "([0, 1, 2], nan)\n",
      "([0, 1], nan)\n",
      "([0, 2], nan)\n",
      "([0], nan)\n",
      "([1, 2, 3], nan)\n",
      "([1, 2], nan)\n",
      "([1, 3], nan)\n",
      "([1], nan)\n",
      "([2, 3], nan)\n",
      "([2], nan)\n",
      "([3], nan)\n"
     ]
    }
   ],
   "source": [
    "for s in st.get_simplices():\n",
    "    print(s);"
   ]
  },
  {
   "cell_type": "markdown",
   "id": "3d78eaf8-fde1-4056-bb37-274ca4eb9958",
   "metadata": {},
   "source": [
    "### Make custom simplex tree"
   ]
  },
  {
   "cell_type": "code",
   "execution_count": 275,
   "id": "79a05fa0-7c3b-402a-be4a-a4542a167edd",
   "metadata": {},
   "outputs": [],
   "source": [
    "from gudhi import SimplexTree"
   ]
  },
  {
   "cell_type": "code",
   "execution_count": 276,
   "id": "1d02fb94-6bbf-4df4-8666-fb28d8544321",
   "metadata": {},
   "outputs": [],
   "source": [
    "st = SimplexTree()"
   ]
  },
  {
   "cell_type": "code",
   "execution_count": 277,
   "id": "65c63828-7532-49c2-9908-ef3da4475125",
   "metadata": {},
   "outputs": [],
   "source": [
    "for s in simplices:\n",
    "    st.insert(s, filtration=0.0)"
   ]
  },
  {
   "cell_type": "code",
   "execution_count": 278,
   "id": "cf7a122c-a439-4c23-8f33-f55cab46e97a",
   "metadata": {},
   "outputs": [
    {
     "name": "stdout",
     "output_type": "stream",
     "text": [
      "([0, 1], 0.0)\n",
      "([0, 2], 0.0)\n",
      "([0], 0.0)\n",
      "([1, 3], 0.0)\n",
      "([1], 0.0)\n",
      "([2, 3], 0.0)\n",
      "([2], 0.0)\n",
      "([3], 0.0)\n",
      "([4], 0.0)\n",
      "([5], 0.0)\n",
      "([6], 0.0)\n",
      "([7], 0.0)\n"
     ]
    }
   ],
   "source": [
    "for s in st.get_simplices():\n",
    "    print(s)"
   ]
  },
  {
   "cell_type": "markdown",
   "id": "1b22be42-9729-48b5-8c7a-de3fd0e1f794",
   "metadata": {},
   "source": [
    "#### Assign filtration values "
   ]
  },
  {
   "cell_type": "code",
   "execution_count": 279,
   "id": "26548021-8284-4661-844d-b003e8510baa",
   "metadata": {},
   "outputs": [],
   "source": [
    "for simplex, val in st.get_simplices():\n",
    "\n",
    "    dist = np.max([ filtr_val(points[p,:]) for p in simplex ])\n",
    "    dist_s = np.argmax([ filtr_val(points[p,:]) for p in simplex ])\n",
    "\n",
    "    st.assign_filtration(simplex, dist)"
   ]
  },
  {
   "cell_type": "code",
   "execution_count": 280,
   "id": "dd04e13f-fe52-4655-b03d-29d6a2e59fd8",
   "metadata": {
    "scrolled": true
   },
   "outputs": [
    {
     "name": "stdout",
     "output_type": "stream",
     "text": [
      "([0, 1], 2.5)\n",
      "([0, 2], 1.9313207915827966)\n",
      "([0], 1.4142135623730951)\n",
      "([1, 3], 2.8284271247461903)\n",
      "([1], 2.5)\n",
      "([2, 3], 2.8284271247461903)\n",
      "([2], 1.9313207915827966)\n",
      "([3], 2.8284271247461903)\n",
      "([4], 3.5355339059327378)\n",
      "([5], 1.0907697289706615)\n",
      "([6], 0.26896444522079194)\n",
      "([7], 1.0429575873926233)\n"
     ]
    }
   ],
   "source": [
    "for s in st.get_simplices():\n",
    "    print(s)"
   ]
  },
  {
   "cell_type": "code",
   "execution_count": 281,
   "id": "f9589fe0-444e-4088-b03e-471ab95ca714",
   "metadata": {},
   "outputs": [
    {
     "data": {
      "image/png": "[encoded data removed]",
      "text/plain": [
       "<Figure size 504x504 with 1 Axes>"
      ]
     },
     "metadata": {},
     "output_type": "display_data"
    }
   ],
   "source": [
    "draw_2d_simplicial_complex([s[0] for s in st.get_simplices()], limits=[[-.5,4.5], [-.5,4.5]], pos=points);"
   ]
  },
  {
   "cell_type": "code",
   "execution_count": 282,
   "id": "97917423-13a0-43d6-b956-90c9215a36b9",
   "metadata": {},
   "outputs": [
    {
     "data": {
      "image/png": "[encoded data removed]",
      "text/plain": [
       "<Figure size 504x504 with 1 Axes>"
      ]
     },
     "metadata": {},
     "output_type": "display_data"
    }
   ],
   "source": [
    "draw_2d_simplicial_complex([s[0] for s in st.get_simplices() if s[1]<=3.5], limits=[[-.5,4.5], [-.5,4.5]], pos=points);"
   ]
  },
  {
   "cell_type": "code",
   "execution_count": 283,
   "id": "dce25898-88ef-4c0f-b226-5bda8a2910a4",
   "metadata": {},
   "outputs": [],
   "source": [
    "st.set_dimension(2)"
   ]
  },
  {
   "cell_type": "code",
   "execution_count": 284,
   "id": "0e53e2aa-30a2-43e0-8109-218659cdbaee",
   "metadata": {},
   "outputs": [
    {
     "data": {
      "text/plain": [
       "[(1, (2.8284271247461903, inf)),\n",
       " (0, (0.26896444522079194, inf)),\n",
       " (0, (1.0429575873926233, inf)),\n",
       " (0, (1.0907697289706615, inf)),\n",
       " (0, (1.4142135623730951, inf)),\n",
       " (0, (3.5355339059327378, inf))]"
      ]
     },
     "execution_count": 284,
     "metadata": {},
     "output_type": "execute_result"
    }
   ],
   "source": [
    "st.persistence()"
   ]
  },
  {
   "cell_type": "code",
   "execution_count": 285,
   "id": "8bc39cc9-31c3-4f92-8e4b-499536c9eee1",
   "metadata": {},
   "outputs": [
    {
     "data": {
      "text/plain": [
       "array([[2.82842712,        inf]])"
      ]
     },
     "execution_count": 285,
     "metadata": {},
     "output_type": "execute_result"
    }
   ],
   "source": [
    "st.persistence_intervals_in_dimension(1)"
   ]
  },
  {
   "cell_type": "code",
   "execution_count": 286,
   "id": "a61a05af-9a68-4f1a-81ac-56740f94505d",
   "metadata": {},
   "outputs": [],
   "source": [
    "res =st.lower_star_persistence_generators()"
   ]
  },
  {
   "cell_type": "code",
   "execution_count": 289,
   "id": "9d785ade-9113-4ab4-b204-c5fcb4bda544",
   "metadata": {},
   "outputs": [
    {
     "data": {
      "text/plain": [
       "array([3])"
      ]
     },
     "execution_count": 289,
     "metadata": {},
     "output_type": "execute_result"
    }
   ],
   "source": [
    "res[1][1]"
   ]
  },
  {
   "cell_type": "code",
   "execution_count": 40,
   "id": "45acceeb-dc01-4029-b60e-2e609ff48e1d",
   "metadata": {},
   "outputs": [],
   "source": [
    "import pickle"
   ]
  },
  {
   "cell_type": "code",
   "execution_count": 133,
   "id": "7929a712-f6a6-4bb9-98cb-9cceee662b44",
   "metadata": {},
   "outputs": [],
   "source": [
    "with open('./data/sectors/sublevelset_filtrations/train_set/105m_1:A:A_model1','rb') as f:\n",
    "\n",
    "    res = pickle.load(f)"
   ]
  },
  {
   "cell_type": "code",
   "execution_count": 143,
   "id": "c402c770-2a78-47a4-8ef0-54e613cb2b33",
   "metadata": {},
   "outputs": [
    {
     "data": {
      "text/plain": [
       "array([], shape=(0, 2), dtype=float64)"
      ]
     },
     "execution_count": 143,
     "metadata": {},
     "output_type": "execute_result"
    }
   ],
   "source": [
    "res[2][4]"
   ]
  },
  {
   "cell_type": "code",
   "execution_count": 45,
   "id": "af89d636-ddd6-4cca-b48c-977169a2065d",
   "metadata": {},
   "outputs": [],
   "source": [
    "st = SimplexTree()"
   ]
  },
  {
   "cell_type": "code",
   "execution_count": null,
   "id": "f103b9e7-be87-4ff3-8f0b-c4482d3a34e4",
   "metadata": {},
   "outputs": [],
   "source": [
    "st.insert( [4,7,9] )"
   ]
  },
  {
   "cell_type": "code",
   "execution_count": 88,
   "id": "a323074c-9f4d-4a38-869b-08663d35ee38",
   "metadata": {},
   "outputs": [],
   "source": [
    "st.assign_filtration( [4,7,9] , 12.0 )"
   ]
  },
  {
   "cell_type": "code",
   "execution_count": 78,
   "id": "053be7f9-5e1f-46d3-90af-7fad466e6915",
   "metadata": {},
   "outputs": [],
   "source": [
    "st.assign_filtration( [4,7] , 2.0 )"
   ]
  },
  {
   "cell_type": "code",
   "execution_count": 84,
   "id": "d9f3e4b7-740e-4cf7-a224-1d3909206e8a",
   "metadata": {},
   "outputs": [
    {
     "name": "stdout",
     "output_type": "stream",
     "text": [
      "([4, 7, 9], inf)\n",
      "([4, 7], 2.0)\n",
      "([4, 9], 12.0)\n",
      "([4], 1.0)\n",
      "([7, 9], 12.0)\n",
      "([7], 2.0)\n",
      "([9], 12.0)\n"
     ]
    }
   ],
   "source": [
    "for s in st.get_simplices():\n",
    "    print(s)"
   ]
  },
  {
   "cell_type": "code",
   "execution_count": 89,
   "id": "f724de2d-50df-4fd2-be0b-809ec57b18c3",
   "metadata": {},
   "outputs": [],
   "source": [
    "st.compute_persistence()"
   ]
  },
  {
   "cell_type": "code",
   "execution_count": 90,
   "id": "680d55ba-1a20-4d05-b200-ac4644cbe1a7",
   "metadata": {},
   "outputs": [],
   "source": [
    "gens = st.lower_star_persistence_generators()"
   ]
  },
  {
   "cell_type": "code",
   "execution_count": 91,
   "id": "98908103-9645-4556-9feb-95b81628388f",
   "metadata": {},
   "outputs": [
    {
     "data": {
      "text/plain": [
       "([], [array([4])])"
      ]
     },
     "execution_count": 91,
     "metadata": {},
     "output_type": "execute_result"
    }
   ],
   "source": [
    "gens"
   ]
  },
  {
   "cell_type": "code",
   "execution_count": 96,
   "id": "eac919cb-86b8-473b-a998-7b74ea495846",
   "metadata": {},
   "outputs": [],
   "source": [
    "def switch_rows():\n",
    "        half = int(rows*columns*size / 2 )\n",
    "        ids = list( range( half, rows*columns*size )) + list(range(half))\n",
    "        return np.array(ids)"
   ]
  },
  {
   "cell_type": "code",
   "execution_count": 111,
   "id": "a96d2587-57de-409e-9900-23dc912d9ef5",
   "metadata": {},
   "outputs": [
    {
     "data": {
      "text/plain": [
       "array([12, 13, 14, 15, 16, 17, 18, 19, 20, 21, 22, 23,  0,  1,  2,  3,  4,\n",
       "        5,  6,  7,  8,  9, 10, 11])"
      ]
     },
     "execution_count": 111,
     "metadata": {},
     "output_type": "execute_result"
    }
   ],
   "source": [
    "rows=2\n",
    "columns = 4\n",
    "size = 3\n",
    "switch_rows()"
   ]
  },
  {
   "cell_type": "code",
   "execution_count": 114,
   "id": "5212b076-64e6-4d25-b12b-6843b9ff8852",
   "metadata": {},
   "outputs": [],
   "source": [
    "def cycle_columns():\n",
    "        ids = np.arange(rows*columns*size)\n",
    "        swap = np.arange(1,size)\n",
    "        swap = np.concatenate([swap , np.zeros( (1), dtype=int )])\n",
    "        \n",
    "        for b in range(rows * columns):\n",
    "            ids[ b*size : (b+1)*size ] = ids[ b*size : (b+1)*size ][swap]\n",
    "        return ids"
   ]
  },
  {
   "cell_type": "code",
   "execution_count": 115,
   "id": "dca77b4f-5814-45fe-a29f-3540a1ae31d5",
   "metadata": {},
   "outputs": [
    {
     "data": {
      "text/plain": [
       "array([ 1,  2,  0,  4,  5,  3,  7,  8,  6, 10, 11,  9, 13, 14, 12, 16, 17,\n",
       "       15, 19, 20, 18, 22, 23, 21])"
      ]
     },
     "execution_count": 115,
     "metadata": {},
     "output_type": "execute_result"
    }
   ],
   "source": [
    "cycle_columns()"
   ]
  },
  {
   "cell_type": "code",
   "execution_count": 144,
   "id": "82f9a5cc-d95a-463f-8e31-ecbd31d4a786",
   "metadata": {},
   "outputs": [],
   "source": [
    "from src.descriptors.spherical_sectors import spherical_permutations, generate_block_permutations"
   ]
  },
  {
   "cell_type": "code",
   "execution_count": 159,
   "id": "c4c4bd6c-7e45-4318-99ce-bf8cc49945f9",
   "metadata": {},
   "outputs": [
    {
     "data": {
      "text/plain": [
       "array([ 0,  1,  2,  3,  4,  5,  6,  7,  8,  9, 10, 11, 12, 13, 14, 15])"
      ]
     },
     "execution_count": 159,
     "metadata": {},
     "output_type": "execute_result"
    }
   ],
   "source": [
    "vec = np.arange( 8 * 2 )\n",
    "vec"
   ]
  },
  {
   "cell_type": "code",
   "execution_count": 161,
   "id": "22554b3c-6b03-4dbb-b9f7-63c367859a5b",
   "metadata": {},
   "outputs": [],
   "source": [
    "aug_vec = generate_block_permutations(vec, 2)"
   ]
  },
  {
   "cell_type": "code",
   "execution_count": 164,
   "id": "519f0795-5050-4c8a-8e8a-f69050522dc5",
   "metadata": {},
   "outputs": [],
   "source": [
    "aug_vec = np.array(aug_vec)"
   ]
  },
  {
   "cell_type": "code",
   "execution_count": 166,
   "id": "6c674d71-1baf-48d6-953e-5d493c92c6eb",
   "metadata": {},
   "outputs": [
    {
     "data": {
      "text/plain": [
       "(8, 16)"
      ]
     },
     "execution_count": 166,
     "metadata": {},
     "output_type": "execute_result"
    }
   ],
   "source": [
    "aug_vec.shape"
   ]
  },
  {
   "cell_type": "code",
   "execution_count": 11,
   "id": "65793c5e-e686-4ba5-82d6-8535c1ba1d81",
   "metadata": {},
   "outputs": [],
   "source": [
    "res = np.load('./data/sectors/sublevelset_filtrations/test_set/0', allow_pickle=True)"
   ]
  },
  {
   "cell_type": "code",
   "execution_count": 13,
   "id": "b28c39d9-3df0-40ec-90e6-8d327cb4afeb",
   "metadata": {},
   "outputs": [
    {
     "data": {
      "text/plain": [
       "[[16.12347379473851, 18.586187004317843, 21.319186002907564],\n",
       " array([ 854.810126, 1970.722354, 3385.444959]),\n",
       " array([[12.85150126, 13.06290422],\n",
       "        [13.78248706, 14.1432608 ],\n",
       "        [14.61958035, 15.23050473],\n",
       "        [15.49191535, 16.03488361],\n",
       "        [12.69698919, 16.67323407],\n",
       "        [15.90884556, 17.02559339],\n",
       "        [18.586187  , 19.08879711],\n",
       "        [19.51842724, 19.53394601],\n",
       "        [20.44830683, 20.58293582],\n",
       "        [20.6360269 , 20.6416547 ],\n",
       "        [19.98345175, 21.1795861 ],\n",
       "        [24.15712517, 24.21979491],\n",
       "        [ 0.78034934,         inf],\n",
       "        [ 1.32023922,         inf],\n",
       "        [ 1.52299211,         inf],\n",
       "        [12.4601082 ,         inf],\n",
       "        [ 4.4136469 ,         inf]]),\n",
       " array([[14.93917956, 15.15394877],\n",
       "        [15.7100211 , 15.94836821],\n",
       "        [17.4163958 , 17.85146548],\n",
       "        [19.33300452, 19.97323872],\n",
       "        [21.38776468, 21.61429501],\n",
       "        [22.90500788, 24.05468651],\n",
       "        [24.44939508, 25.11262867],\n",
       "        [26.25124779, 26.41236091]]),\n",
       " array([], shape=(0, 2), dtype=float64),\n",
       " ([array([[1703, 2429],\n",
       "          [1713, 1711],\n",
       "          [4399, 5943],\n",
       "          [5165, 4847],\n",
       "          [2970, 4991],\n",
       "          [7739, 3097],\n",
       "          [3387, 4117],\n",
       "          [1225, 1599],\n",
       "          [1849, 1745],\n",
       "          [1853, 1743],\n",
       "          [1843, 2469],\n",
       "          [3787, 4245]]),\n",
       "   array([[ 2443,  2439],\n",
       "          [ 4833,  5291],\n",
       "          [ 3109,  8371],\n",
       "          [ 3395,  4115],\n",
       "          [ 6983,  8513],\n",
       "          [ 3793, 10351],\n",
       "          [ 4239,  5617],\n",
       "          [ 2189,  2551]])],\n",
       "  [array([1558, 1702, 1828, 5597, 2545])])]"
      ]
     },
     "execution_count": 13,
     "metadata": {},
     "output_type": "execute_result"
    }
   ],
   "source": [
    "res[1]"
   ]
  },
  {
   "cell_type": "code",
   "execution_count": 58,
   "id": "35e9904a-cfe1-4c85-829a-4c29d6e9cbae",
   "metadata": {},
   "outputs": [],
   "source": [
    "import numpy as np\n",
    "import pandas as pd"
   ]
  },
  {
   "cell_type": "code",
   "execution_count": 86,
   "id": "a9eef47d-d3a0-42e3-84e7-bb6c81af7dbd",
   "metadata": {},
   "outputs": [],
   "source": [
    "dfTrue = pd.read_csv('./test_set_ground_truth.csv')"
   ]
  },
  {
   "cell_type": "code",
   "execution_count": 87,
   "id": "a47bfafc-cace-4e70-aa4a-a2f876845fa1",
   "metadata": {},
   "outputs": [],
   "source": [
    "dfMarco = pd.read_csv('./data/results/classification135/Classification135.csv')"
   ]
  },
  {
   "cell_type": "code",
   "execution_count": null,
   "id": "3518dc4b-03f5-4717-b5e4-79a41676c559",
   "metadata": {},
   "outputs": [],
   "source": []
  },
  {
   "cell_type": "code",
   "execution_count": 88,
   "id": "bff74962-fcd8-4366-9b7f-b8f1c83a2e2f",
   "metadata": {},
   "outputs": [],
   "source": [
    "vec1 = dfMarco['Class'].to_numpy()\n",
    "vec2 = dfTrue.to_numpy()[:,1]"
   ]
  },
  {
   "cell_type": "code",
   "execution_count": 90,
   "id": "418d81d5-af77-42b4-975c-9701c6532860",
   "metadata": {},
   "outputs": [
    {
     "data": {
      "text/plain": [
       "0.07884532529082292"
      ]
     },
     "execution_count": 90,
     "metadata": {},
     "output_type": "execute_result"
    }
   ],
   "source": [
    "np.argwhere( vec1 == vec2 ).shape[0]/2321"
   ]
  },
  {
   "cell_type": "code",
   "execution_count": 91,
   "id": "5163b8c0-ad46-432e-85ea-d65872f8e9ca",
   "metadata": {},
   "outputs": [
    {
     "data": {
      "text/plain": [
       "(2321,)"
      ]
     },
     "execution_count": 91,
     "metadata": {},
     "output_type": "execute_result"
    }
   ],
   "source": [
    "vec2.shape"
   ]
  },
  {
   "cell_type": "code",
   "execution_count": 92,
   "id": "e03ef168-186d-46ef-8e75-2dabd72e46b2",
   "metadata": {},
   "outputs": [
    {
     "data": {
      "text/plain": [
       "array([39, 10,  8, ..., 51, 90, 14])"
      ]
     },
     "execution_count": 92,
     "metadata": {},
     "output_type": "execute_result"
    }
   ],
   "source": [
    "vec1"
   ]
  },
  {
   "cell_type": "code",
   "execution_count": 93,
   "id": "a4fe4949-dae0-412a-a51c-a8d37155d2cc",
   "metadata": {},
   "outputs": [
    {
     "data": {
      "text/plain": [
       "array([88, 10,  8, ...,  8, 75, 51])"
      ]
     },
     "execution_count": 93,
     "metadata": {},
     "output_type": "execute_result"
    }
   ],
   "source": [
    "vec2"
   ]
  },
  {
   "cell_type": "code",
   "execution_count": 162,
   "id": "f8672b88-d699-4b29-a17d-77637d13d47e",
   "metadata": {},
   "outputs": [],
   "source": [
    "labs = np.load('./data/data/saved_descriptors/train_set/AlphaProminentLabels.npy')"
   ]
  },
  {
   "cell_type": "code",
   "execution_count": 107,
   "id": "ae7c62a6-198f-4532-b3c4-a19488e46082",
   "metadata": {},
   "outputs": [
    {
     "data": {
      "text/plain": [
       "array([19, 88, 39, 39, 39, 19, 19, 39, 94, 94])"
      ]
     },
     "execution_count": 107,
     "metadata": {},
     "output_type": "execute_result"
    }
   ],
   "source": [
    "labs[:10]"
   ]
  },
  {
   "cell_type": "code",
   "execution_count": 169,
   "id": "b9b58158-eb93-4935-b997-d526e94ef248",
   "metadata": {},
   "outputs": [],
   "source": [
    "labels = pd.read_csv('./data/train_set.csv').to_numpy()"
   ]
  },
  {
   "cell_type": "code",
   "execution_count": 118,
   "id": "ac4641a4-19d2-4d9d-a4f6-0765a51c39e1",
   "metadata": {
    "scrolled": true
   },
   "outputs": [],
   "source": [
    "labels = labels.tolist()"
   ]
  },
  {
   "cell_type": "code",
   "execution_count": 120,
   "id": "58466f82-1b38-430f-81a9-5440e745e1e7",
   "metadata": {
    "scrolled": true
   },
   "outputs": [],
   "source": [
    "labels = list(sorted(labels , key=lambda x : x[0]))"
   ]
  },
  {
   "cell_type": "code",
   "execution_count": 122,
   "id": "c9a417d9-fb33-45bc-b04d-87d7b4fb0652",
   "metadata": {
    "scrolled": true
   },
   "outputs": [],
   "source": [
    "labels = [x[1] for x in labels]"
   ]
  },
  {
   "cell_type": "code",
   "execution_count": 132,
   "id": "9ac0fba3-2ed4-4d81-ab15-b4ee4fea7fd8",
   "metadata": {
    "scrolled": true
   },
   "outputs": [
    {
     "data": {
      "text/plain": [
       "(9244,)"
      ]
     },
     "execution_count": 132,
     "metadata": {},
     "output_type": "execute_result"
    }
   ],
   "source": [
    "labels = np.array(labels)"
   ]
  },
  {
   "cell_type": "code",
   "execution_count": 127,
   "id": "969d5cae-dc3a-442b-8c95-3ea04ee52dbc",
   "metadata": {},
   "outputs": [
    {
     "data": {
      "text/plain": [
       "True"
      ]
     },
     "execution_count": 127,
     "metadata": {},
     "output_type": "execute_result"
    }
   ],
   "source": [
    "np.all( labs == labels )"
   ]
  },
  {
   "cell_type": "code",
   "execution_count": 141,
   "id": "63a7cf1a-9544-43a8-92dc-816ef5381044",
   "metadata": {},
   "outputs": [],
   "source": [
    "labs = np.load('./data/data/saved_descriptors/train_set/AugmentedLabels.npy')"
   ]
  },
  {
   "cell_type": "code",
   "execution_count": 143,
   "id": "69fc778e-6d05-4a6d-a646-4f480333f461",
   "metadata": {},
   "outputs": [],
   "source": [
    "labels = np.repeat(labels , repeats=8, axis=0)"
   ]
  },
  {
   "cell_type": "code",
   "execution_count": 146,
   "id": "abd815cf-0190-40d4-9fe4-324991a7242d",
   "metadata": {},
   "outputs": [
    {
     "data": {
      "text/plain": [
       "True"
      ]
     },
     "execution_count": 146,
     "metadata": {},
     "output_type": "execute_result"
    }
   ],
   "source": [
    "np.all(labs==labels)"
   ]
  },
  {
   "cell_type": "code",
   "execution_count": 152,
   "id": "69673da9-4f21-46b7-9a59-e7385637e02c",
   "metadata": {},
   "outputs": [],
   "source": [
    "data = np.load('ThisData.npy')"
   ]
  },
  {
   "cell_type": "code",
   "execution_count": 155,
   "id": "7b133db0-9fbf-4359-9a24-f52eb94b30ba",
   "metadata": {},
   "outputs": [
    {
     "data": {
      "text/plain": [
       "135"
      ]
     },
     "execution_count": 155,
     "metadata": {},
     "output_type": "execute_result"
    }
   ],
   "source": []
  },
  {
   "cell_type": "code",
   "execution_count": 197,
   "id": "66c09372-2a9b-4faf-b97a-6659377488c9",
   "metadata": {},
   "outputs": [],
   "source": [
    "source = DataSource(source='./data/data/test_set/')"
   ]
  },
  {
   "cell_type": "code",
   "execution_count": 198,
   "id": "19d6f2d7-4404-4729-a6ea-1eb90332ca65",
   "metadata": {
    "scrolled": true
   },
   "outputs": [
    {
     "name": "stdout",
     "output_type": "stream",
     "text": [
      "0\n",
      "1\n",
      "10\n",
      "100\n",
      "1000\n",
      "1001\n",
      "1002\n",
      "1003\n",
      "1004\n",
      "1005\n",
      "1006\n",
      "1007\n",
      "1008\n",
      "1009\n",
      "101\n",
      "1010\n",
      "1011\n",
      "1012\n",
      "1013\n",
      "1014\n",
      "1015\n",
      "1016\n",
      "1017\n",
      "1018\n",
      "1019\n",
      "102\n",
      "1020\n",
      "1021\n",
      "1022\n",
      "1023\n",
      "1024\n",
      "1025\n",
      "1026\n",
      "1027\n",
      "1028\n",
      "1029\n",
      "103\n",
      "1030\n",
      "1031\n",
      "1032\n",
      "1033\n",
      "1034\n",
      "1035\n",
      "1036\n",
      "1037\n",
      "1038\n",
      "1039\n",
      "104\n",
      "1040\n",
      "1041\n",
      "1042\n",
      "1043\n",
      "1044\n",
      "1045\n",
      "1046\n",
      "1047\n",
      "1048\n",
      "1049\n",
      "105\n",
      "1050\n",
      "1051\n",
      "1052\n",
      "1053\n",
      "1054\n",
      "1055\n",
      "1056\n",
      "1057\n",
      "1058\n",
      "1059\n",
      "106\n",
      "1060\n",
      "1061\n",
      "1062\n",
      "1063\n",
      "1064\n",
      "1065\n",
      "1066\n",
      "1067\n",
      "1068\n",
      "1069\n",
      "107\n",
      "1070\n",
      "1071\n",
      "1072\n",
      "1073\n",
      "1074\n",
      "1075\n",
      "1076\n",
      "1077\n",
      "1078\n",
      "1079\n",
      "108\n",
      "1080\n",
      "1081\n",
      "1082\n",
      "1083\n",
      "1084\n",
      "1085\n",
      "1086\n",
      "1087\n",
      "1088\n",
      "1089\n",
      "109\n",
      "1090\n",
      "1091\n",
      "1092\n",
      "1093\n",
      "1094\n",
      "1095\n",
      "1096\n",
      "1097\n",
      "1098\n",
      "1099\n",
      "11\n",
      "110\n",
      "1100\n",
      "1101\n",
      "1102\n",
      "1103\n",
      "1104\n",
      "1105\n",
      "1106\n",
      "1107\n",
      "1108\n",
      "1109\n",
      "111\n",
      "1110\n",
      "1111\n",
      "1112\n",
      "1113\n",
      "1114\n",
      "1115\n",
      "1116\n",
      "1117\n",
      "1118\n",
      "1119\n",
      "112\n",
      "1120\n",
      "1121\n",
      "1122\n",
      "1123\n",
      "1124\n",
      "1125\n",
      "1126\n",
      "1127\n",
      "1128\n",
      "1129\n",
      "113\n",
      "1130\n",
      "1131\n",
      "1132\n",
      "1133\n",
      "1134\n",
      "1135\n",
      "1136\n",
      "1137\n",
      "1138\n",
      "1139\n",
      "114\n",
      "1140\n",
      "1141\n",
      "1142\n",
      "1143\n",
      "1144\n",
      "1145\n",
      "1146\n",
      "1147\n",
      "1148\n",
      "1149\n",
      "115\n",
      "1150\n",
      "1151\n",
      "1152\n",
      "1153\n",
      "1154\n",
      "1155\n",
      "1156\n",
      "1157\n",
      "1158\n",
      "1159\n",
      "116\n",
      "1160\n",
      "1161\n",
      "1162\n",
      "1163\n",
      "1164\n",
      "1165\n",
      "1166\n",
      "1167\n",
      "1168\n",
      "1169\n",
      "117\n",
      "1170\n",
      "1171\n",
      "1172\n",
      "1173\n",
      "1174\n",
      "1175\n",
      "1176\n",
      "1177\n",
      "1178\n",
      "1179\n",
      "118\n",
      "1180\n",
      "1181\n",
      "1182\n",
      "1183\n",
      "1184\n",
      "1185\n",
      "1186\n",
      "1187\n",
      "1188\n",
      "1189\n",
      "119\n",
      "1190\n",
      "1191\n",
      "1192\n",
      "1193\n",
      "1194\n",
      "1195\n",
      "1196\n",
      "1197\n",
      "1198\n",
      "1199\n",
      "12\n",
      "120\n",
      "1200\n",
      "1201\n",
      "1202\n",
      "1203\n",
      "1204\n",
      "1205\n",
      "1206\n",
      "1207\n",
      "1208\n",
      "1209\n",
      "121\n",
      "1210\n",
      "1211\n",
      "1212\n",
      "1213\n",
      "1214\n",
      "1215\n",
      "1216\n",
      "1217\n",
      "1218\n",
      "1219\n",
      "122\n",
      "1220\n",
      "1221\n",
      "1222\n",
      "1223\n",
      "1224\n",
      "1225\n",
      "1226\n",
      "1227\n",
      "1228\n",
      "1229\n",
      "123\n",
      "1230\n",
      "1231\n",
      "1232\n",
      "1233\n",
      "1234\n",
      "1235\n",
      "1236\n",
      "1237\n",
      "1238\n",
      "1239\n",
      "124\n",
      "1240\n",
      "1241\n",
      "1242\n",
      "1243\n",
      "1244\n",
      "1245\n",
      "1246\n",
      "1247\n",
      "1248\n",
      "1249\n",
      "125\n",
      "1250\n",
      "1251\n",
      "1252\n",
      "1253\n",
      "1254\n",
      "1255\n",
      "1256\n",
      "1257\n",
      "1258\n",
      "1259\n",
      "126\n",
      "1260\n",
      "1261\n",
      "1262\n",
      "1263\n",
      "1264\n",
      "1265\n",
      "1266\n",
      "1267\n",
      "1268\n",
      "1269\n",
      "127\n",
      "1270\n",
      "1271\n",
      "1272\n",
      "1273\n",
      "1274\n",
      "1275\n",
      "1276\n",
      "1277\n",
      "1278\n",
      "1279\n",
      "128\n",
      "1280\n",
      "1281\n",
      "1282\n",
      "1283\n",
      "1284\n",
      "1285\n",
      "1286\n",
      "1287\n",
      "1288\n",
      "1289\n",
      "129\n",
      "1290\n",
      "1291\n",
      "1292\n",
      "1293\n",
      "1294\n",
      "1295\n",
      "1296\n",
      "1297\n",
      "1298\n",
      "1299\n",
      "13\n",
      "130\n",
      "1300\n",
      "1301\n",
      "1302\n",
      "1303\n",
      "1304\n",
      "1305\n",
      "1306\n",
      "1307\n",
      "1308\n",
      "1309\n",
      "131\n",
      "1310\n",
      "1311\n",
      "1312\n",
      "1313\n",
      "1314\n",
      "1315\n",
      "1316\n",
      "1317\n",
      "1318\n",
      "1319\n",
      "132\n",
      "1320\n",
      "1321\n",
      "1322\n",
      "1323\n",
      "1324\n",
      "1325\n",
      "1326\n",
      "1327\n",
      "1328\n",
      "1329\n",
      "133\n",
      "1330\n",
      "1331\n",
      "1332\n",
      "1333\n",
      "1334\n",
      "1335\n",
      "1336\n",
      "1337\n",
      "1338\n",
      "1339\n",
      "134\n",
      "1340\n",
      "1341\n",
      "1342\n",
      "1343\n",
      "1344\n",
      "1345\n",
      "1346\n",
      "1347\n",
      "1348\n",
      "1349\n",
      "135\n",
      "1350\n",
      "1351\n",
      "1352\n",
      "1353\n",
      "1354\n",
      "1355\n",
      "1356\n",
      "1357\n",
      "1358\n",
      "1359\n",
      "136\n",
      "1360\n",
      "1361\n",
      "1362\n",
      "1363\n",
      "1364\n",
      "1365\n",
      "1366\n",
      "1367\n",
      "1368\n",
      "1369\n",
      "137\n",
      "1370\n",
      "1371\n",
      "1372\n",
      "1373\n",
      "1374\n",
      "1375\n",
      "1376\n",
      "1377\n",
      "1378\n",
      "1379\n",
      "138\n",
      "1380\n",
      "1381\n",
      "1382\n",
      "1383\n",
      "1384\n",
      "1385\n",
      "1386\n",
      "1387\n",
      "1388\n",
      "1389\n",
      "139\n",
      "1390\n",
      "1391\n",
      "1392\n",
      "1393\n",
      "1394\n",
      "1395\n",
      "1396\n",
      "1397\n",
      "1398\n",
      "1399\n",
      "14\n",
      "140\n",
      "1400\n",
      "1401\n",
      "1402\n",
      "1403\n",
      "1404\n",
      "1405\n",
      "1406\n",
      "1407\n",
      "1408\n",
      "1409\n",
      "141\n",
      "1410\n",
      "1411\n",
      "1412\n",
      "1413\n",
      "1414\n",
      "1415\n",
      "1416\n",
      "1417\n",
      "1418\n",
      "1419\n",
      "142\n",
      "1420\n",
      "1421\n",
      "1422\n",
      "1423\n",
      "1424\n",
      "1425\n",
      "1426\n",
      "1427\n",
      "1428\n",
      "1429\n",
      "143\n",
      "1430\n",
      "1431\n",
      "1432\n",
      "1433\n",
      "1434\n",
      "1435\n",
      "1436\n",
      "1437\n",
      "1438\n",
      "1439\n",
      "144\n",
      "1440\n",
      "1441\n",
      "1442\n",
      "1443\n",
      "1444\n",
      "1445\n",
      "1446\n",
      "1447\n",
      "1448\n",
      "1449\n",
      "145\n",
      "1450\n",
      "1451\n",
      "1452\n",
      "1453\n",
      "1454\n",
      "1455\n",
      "1456\n",
      "1457\n",
      "1458\n",
      "1459\n",
      "146\n",
      "1460\n",
      "1461\n",
      "1462\n",
      "1463\n",
      "1464\n",
      "1465\n",
      "1466\n",
      "1467\n",
      "1468\n",
      "1469\n",
      "147\n",
      "1470\n",
      "1471\n",
      "1472\n",
      "1473\n",
      "1474\n",
      "1475\n",
      "1476\n",
      "1477\n",
      "1478\n",
      "1479\n",
      "148\n",
      "1480\n",
      "1481\n",
      "1482\n",
      "1483\n",
      "1484\n",
      "1485\n",
      "1486\n",
      "1487\n",
      "1488\n",
      "1489\n",
      "149\n",
      "1490\n",
      "1491\n",
      "1492\n",
      "1493\n",
      "1494\n",
      "1495\n",
      "1496\n",
      "1497\n",
      "1498\n",
      "1499\n",
      "15\n",
      "150\n",
      "1500\n",
      "1501\n",
      "1502\n",
      "1503\n",
      "1504\n",
      "1505\n",
      "1506\n",
      "1507\n",
      "1508\n",
      "1509\n",
      "151\n",
      "1510\n",
      "1511\n",
      "1512\n",
      "1513\n",
      "1514\n",
      "1515\n",
      "1516\n",
      "1517\n",
      "1518\n",
      "1519\n",
      "152\n",
      "1520\n",
      "1521\n",
      "1522\n",
      "1523\n",
      "1524\n",
      "1525\n",
      "1526\n",
      "1527\n",
      "1528\n",
      "1529\n",
      "153\n",
      "1530\n",
      "1531\n",
      "1532\n",
      "1533\n",
      "1534\n",
      "1535\n",
      "1536\n",
      "1537\n",
      "1538\n",
      "1539\n",
      "154\n",
      "1540\n",
      "1541\n",
      "1542\n",
      "1543\n",
      "1544\n",
      "1545\n",
      "1546\n",
      "1547\n",
      "1548\n",
      "1549\n",
      "155\n",
      "1550\n",
      "1551\n",
      "1552\n",
      "1553\n",
      "1554\n",
      "1555\n",
      "1556\n",
      "1557\n",
      "1558\n",
      "1559\n",
      "156\n",
      "1560\n",
      "1561\n",
      "1562\n",
      "1563\n",
      "1564\n",
      "1565\n",
      "1566\n",
      "1567\n",
      "1568\n",
      "1569\n",
      "157\n",
      "1570\n",
      "1571\n",
      "1572\n",
      "1573\n",
      "1574\n",
      "1575\n",
      "1576\n",
      "1577\n",
      "1578\n",
      "1579\n",
      "158\n",
      "1580\n",
      "1581\n",
      "1582\n",
      "1583\n",
      "1584\n",
      "1585\n",
      "1586\n",
      "1587\n",
      "1588\n",
      "1589\n",
      "159\n",
      "1590\n",
      "1591\n",
      "1592\n",
      "1593\n",
      "1594\n",
      "1595\n",
      "1596\n",
      "1597\n",
      "1598\n",
      "1599\n",
      "16\n",
      "160\n",
      "1600\n",
      "1601\n",
      "1602\n",
      "1603\n",
      "1604\n",
      "1605\n",
      "1606\n",
      "1607\n",
      "1608\n",
      "1609\n",
      "161\n",
      "1610\n",
      "1611\n",
      "1612\n",
      "1613\n",
      "1614\n",
      "1615\n",
      "1616\n",
      "1617\n",
      "1618\n",
      "1619\n",
      "162\n",
      "1620\n",
      "1621\n",
      "1622\n",
      "1623\n",
      "1624\n",
      "1625\n",
      "1626\n",
      "1627\n",
      "1628\n",
      "1629\n",
      "163\n",
      "1630\n",
      "1631\n",
      "1632\n",
      "1633\n",
      "1634\n",
      "1635\n",
      "1636\n",
      "1637\n",
      "1638\n",
      "1639\n",
      "164\n",
      "1640\n",
      "1641\n",
      "1642\n",
      "1643\n",
      "1644\n",
      "1645\n",
      "1646\n",
      "1647\n",
      "1648\n",
      "1649\n",
      "165\n",
      "1650\n",
      "1651\n",
      "1652\n",
      "1653\n",
      "1654\n",
      "1655\n",
      "1656\n",
      "1657\n",
      "1658\n",
      "1659\n",
      "166\n",
      "1660\n",
      "1661\n",
      "1662\n",
      "1663\n",
      "1664\n",
      "1665\n",
      "1666\n",
      "1667\n",
      "1668\n",
      "1669\n",
      "167\n",
      "1670\n",
      "1671\n",
      "1672\n",
      "1673\n",
      "1674\n",
      "1675\n",
      "1676\n",
      "1677\n",
      "1678\n",
      "1679\n",
      "168\n",
      "1680\n",
      "1681\n",
      "1682\n",
      "1683\n",
      "1684\n",
      "1685\n",
      "1686\n",
      "1687\n",
      "1688\n",
      "1689\n",
      "169\n",
      "1690\n",
      "1691\n",
      "1692\n",
      "1693\n",
      "1694\n",
      "1695\n",
      "1696\n",
      "1697\n",
      "1698\n",
      "1699\n",
      "17\n",
      "170\n",
      "1700\n",
      "1701\n",
      "1702\n",
      "1703\n",
      "1704\n",
      "1705\n",
      "1706\n",
      "1707\n",
      "1708\n",
      "1709\n",
      "171\n",
      "1710\n",
      "1711\n",
      "1712\n",
      "1713\n",
      "1714\n",
      "1715\n",
      "1716\n",
      "1717\n",
      "1718\n",
      "1719\n",
      "172\n",
      "1720\n",
      "1721\n",
      "1722\n",
      "1723\n",
      "1724\n",
      "1725\n",
      "1726\n",
      "1727\n",
      "1728\n",
      "1729\n",
      "173\n",
      "1730\n",
      "1731\n",
      "1732\n",
      "1733\n",
      "1734\n",
      "1735\n",
      "1736\n",
      "1737\n",
      "1738\n",
      "1739\n",
      "174\n",
      "1740\n",
      "1741\n",
      "1742\n",
      "1743\n",
      "1744\n",
      "1745\n",
      "1746\n",
      "1747\n",
      "1748\n",
      "1749\n",
      "175\n",
      "1750\n",
      "1751\n",
      "1752\n",
      "1753\n",
      "1754\n",
      "1755\n",
      "1756\n",
      "1757\n",
      "1758\n",
      "1759\n",
      "176\n",
      "1760\n",
      "1761\n",
      "1762\n",
      "1763\n",
      "1764\n",
      "1765\n",
      "1766\n",
      "1767\n",
      "1768\n",
      "1769\n",
      "177\n",
      "1770\n",
      "1771\n",
      "1772\n",
      "1773\n",
      "1774\n",
      "1775\n",
      "1776\n",
      "1777\n",
      "1778\n",
      "1779\n",
      "178\n",
      "1780\n",
      "1781\n",
      "1782\n",
      "1783\n",
      "1784\n",
      "1785\n",
      "1786\n",
      "1787\n",
      "1788\n",
      "1789\n",
      "179\n",
      "1790\n",
      "1791\n",
      "1792\n",
      "1793\n",
      "1794\n",
      "1795\n",
      "1796\n",
      "1797\n",
      "1798\n",
      "1799\n",
      "18\n",
      "180\n",
      "1800\n",
      "1801\n",
      "1802\n",
      "1803\n",
      "1804\n",
      "1805\n",
      "1806\n",
      "1807\n",
      "1808\n",
      "1809\n",
      "181\n",
      "1810\n",
      "1811\n",
      "1812\n",
      "1813\n",
      "1814\n",
      "1815\n",
      "1816\n",
      "1817\n",
      "1818\n",
      "1819\n",
      "182\n",
      "1820\n",
      "1821\n",
      "1822\n",
      "1823\n",
      "1824\n",
      "1825\n",
      "1826\n",
      "1827\n",
      "1828\n",
      "1829\n",
      "183\n",
      "1830\n",
      "1831\n",
      "1832\n",
      "1833\n",
      "1834\n",
      "1835\n",
      "1836\n",
      "1837\n",
      "1838\n",
      "1839\n",
      "184\n",
      "1840\n",
      "1841\n",
      "1842\n",
      "1843\n",
      "1844\n",
      "1845\n",
      "1846\n",
      "1847\n",
      "1848\n",
      "1849\n",
      "185\n",
      "1850\n",
      "1851\n",
      "1852\n",
      "1853\n",
      "1854\n",
      "1855\n",
      "1856\n",
      "1857\n",
      "1858\n",
      "1859\n",
      "186\n",
      "1860\n",
      "1861\n",
      "1862\n",
      "1863\n",
      "1864\n",
      "1865\n",
      "1866\n",
      "1867\n",
      "1868\n",
      "1869\n",
      "187\n",
      "1870\n",
      "1871\n",
      "1872\n",
      "1873\n",
      "1874\n",
      "1875\n",
      "1876\n",
      "1877\n",
      "1878\n",
      "1879\n",
      "188\n",
      "1880\n",
      "1881\n",
      "1882\n",
      "1883\n",
      "1884\n",
      "1885\n",
      "1886\n",
      "1887\n",
      "1888\n",
      "1889\n",
      "189\n",
      "1890\n",
      "1891\n",
      "1892\n",
      "1893\n",
      "1894\n",
      "1895\n",
      "1896\n",
      "1897\n",
      "1898\n",
      "1899\n",
      "19\n",
      "190\n",
      "1900\n",
      "1901\n",
      "1902\n",
      "1903\n",
      "1904\n",
      "1905\n",
      "1906\n",
      "1907\n",
      "1908\n",
      "1909\n",
      "191\n",
      "1910\n",
      "1911\n",
      "1912\n",
      "1913\n",
      "1914\n",
      "1915\n",
      "1916\n",
      "1917\n",
      "1918\n",
      "1919\n",
      "192\n",
      "1920\n",
      "1921\n",
      "1922\n",
      "1923\n",
      "1924\n",
      "1925\n",
      "1926\n",
      "1927\n",
      "1928\n",
      "1929\n",
      "193\n",
      "1930\n",
      "1931\n",
      "1932\n",
      "1933\n",
      "1934\n",
      "1935\n",
      "1936\n",
      "1937\n",
      "1938\n",
      "1939\n",
      "194\n",
      "1940\n",
      "1941\n",
      "1942\n",
      "1943\n",
      "1944\n",
      "1945\n",
      "1946\n",
      "1947\n",
      "1948\n",
      "1949\n",
      "195\n",
      "1950\n",
      "1951\n",
      "1952\n",
      "1953\n",
      "1954\n",
      "1955\n",
      "1956\n",
      "1957\n",
      "1958\n",
      "1959\n",
      "196\n",
      "1960\n",
      "1961\n",
      "1962\n",
      "1963\n",
      "1964\n",
      "1965\n",
      "1966\n",
      "1967\n",
      "1968\n",
      "1969\n",
      "197\n",
      "1970\n",
      "1971\n",
      "1972\n",
      "1973\n",
      "1974\n",
      "1975\n",
      "1976\n",
      "1977\n",
      "1978\n",
      "1979\n",
      "198\n",
      "1980\n",
      "1981\n",
      "1982\n",
      "1983\n",
      "1984\n",
      "1985\n",
      "1986\n",
      "1987\n",
      "1988\n",
      "1989\n",
      "199\n",
      "1990\n",
      "1991\n",
      "1992\n",
      "1993\n",
      "1994\n",
      "1995\n",
      "1996\n",
      "1997\n",
      "1998\n",
      "1999\n",
      "2\n",
      "20\n",
      "200\n",
      "2000\n",
      "2001\n",
      "2002\n",
      "2003\n",
      "2004\n",
      "2005\n",
      "2006\n",
      "2007\n",
      "2008\n",
      "2009\n",
      "201\n",
      "2010\n",
      "2011\n",
      "2012\n",
      "2013\n",
      "2014\n",
      "2015\n",
      "2016\n",
      "2017\n",
      "2018\n",
      "2019\n",
      "202\n",
      "2020\n",
      "2021\n",
      "2022\n",
      "2023\n",
      "2024\n",
      "2025\n",
      "2026\n",
      "2027\n",
      "2028\n",
      "2029\n",
      "203\n",
      "2030\n",
      "2031\n",
      "2032\n",
      "2033\n",
      "2034\n",
      "2035\n",
      "2036\n",
      "2037\n",
      "2038\n",
      "2039\n",
      "204\n",
      "2040\n",
      "2041\n",
      "2042\n",
      "2043\n",
      "2044\n",
      "2045\n",
      "2046\n",
      "2047\n",
      "2048\n",
      "2049\n",
      "205\n",
      "2050\n",
      "2051\n",
      "2052\n",
      "2053\n",
      "2054\n",
      "2055\n",
      "2056\n",
      "2057\n",
      "2058\n",
      "2059\n",
      "206\n",
      "2060\n",
      "2061\n",
      "2062\n",
      "2063\n",
      "2064\n",
      "2065\n",
      "2066\n",
      "2067\n",
      "2068\n",
      "2069\n",
      "207\n",
      "2070\n",
      "2071\n",
      "2072\n",
      "2073\n",
      "2074\n",
      "2075\n",
      "2076\n",
      "2077\n",
      "2078\n",
      "2079\n",
      "208\n",
      "2080\n",
      "2081\n",
      "2082\n",
      "2083\n",
      "2084\n",
      "2085\n",
      "2086\n",
      "2087\n",
      "2088\n",
      "2089\n",
      "209\n",
      "2090\n",
      "2091\n",
      "2092\n",
      "2093\n",
      "2094\n",
      "2095\n",
      "2096\n",
      "2097\n",
      "2098\n",
      "2099\n",
      "21\n",
      "210\n",
      "2100\n",
      "2101\n",
      "2102\n",
      "2103\n",
      "2104\n",
      "2105\n",
      "2106\n",
      "2107\n",
      "2108\n",
      "2109\n",
      "211\n",
      "2110\n",
      "2111\n",
      "2112\n",
      "2113\n",
      "2114\n",
      "2115\n",
      "2116\n",
      "2117\n",
      "2118\n",
      "2119\n",
      "212\n",
      "2120\n",
      "2121\n",
      "2122\n",
      "2123\n",
      "2124\n",
      "2125\n",
      "2126\n",
      "2127\n",
      "2128\n",
      "2129\n",
      "213\n",
      "2130\n",
      "2131\n",
      "2132\n",
      "2133\n",
      "2134\n",
      "2135\n",
      "2136\n",
      "2137\n",
      "2138\n",
      "2139\n",
      "214\n",
      "2140\n",
      "2141\n",
      "2142\n",
      "2143\n",
      "2144\n",
      "2145\n",
      "2146\n",
      "2147\n",
      "2148\n",
      "2149\n",
      "215\n",
      "2150\n",
      "2151\n",
      "2152\n",
      "2153\n",
      "2154\n",
      "2155\n",
      "2156\n",
      "2157\n",
      "2158\n",
      "2159\n",
      "216\n",
      "2160\n",
      "2161\n",
      "2162\n",
      "2163\n",
      "2164\n",
      "2165\n",
      "2166\n",
      "2167\n",
      "2168\n",
      "2169\n",
      "217\n",
      "2170\n",
      "2171\n",
      "2172\n",
      "2173\n",
      "2174\n",
      "2175\n",
      "2176\n",
      "2177\n",
      "2178\n",
      "2179\n",
      "218\n",
      "2180\n",
      "2181\n",
      "2182\n",
      "2183\n",
      "2184\n",
      "2185\n",
      "2186\n",
      "2187\n",
      "2188\n",
      "2189\n",
      "219\n",
      "2190\n",
      "2191\n",
      "2192\n",
      "2193\n",
      "2194\n",
      "2195\n",
      "2196\n",
      "2197\n",
      "2198\n",
      "2199\n",
      "22\n",
      "220\n",
      "2200\n",
      "2201\n",
      "2202\n",
      "2203\n",
      "2204\n",
      "2205\n",
      "2206\n",
      "2207\n",
      "2208\n",
      "2209\n",
      "221\n",
      "2210\n",
      "2211\n",
      "2212\n",
      "2213\n",
      "2214\n",
      "2215\n",
      "2216\n",
      "2217\n",
      "2218\n",
      "2219\n",
      "222\n",
      "2220\n",
      "2221\n",
      "2222\n",
      "2223\n",
      "2224\n",
      "2225\n",
      "2226\n",
      "2227\n",
      "2228\n",
      "2229\n",
      "223\n",
      "2230\n",
      "2231\n",
      "2232\n",
      "2233\n",
      "2234\n",
      "2235\n",
      "2236\n",
      "2237\n",
      "2238\n",
      "2239\n",
      "224\n",
      "2240\n",
      "2241\n",
      "2242\n",
      "2243\n",
      "2244\n",
      "2245\n",
      "2246\n",
      "2247\n",
      "2248\n",
      "2249\n",
      "225\n",
      "2250\n",
      "2251\n",
      "2252\n",
      "2253\n",
      "2254\n",
      "2255\n",
      "2256\n",
      "2257\n",
      "2258\n",
      "2259\n",
      "226\n",
      "2260\n",
      "2261\n",
      "2262\n",
      "2263\n",
      "2264\n",
      "2265\n",
      "2266\n",
      "2267\n",
      "2268\n",
      "2269\n",
      "227\n",
      "2270\n",
      "2271\n",
      "2272\n",
      "2273\n",
      "2274\n",
      "2275\n",
      "2276\n",
      "2277\n",
      "2278\n",
      "2279\n",
      "228\n",
      "2280\n",
      "2281\n",
      "2282\n",
      "2283\n",
      "2284\n",
      "2285\n",
      "2286\n",
      "2287\n",
      "2288\n",
      "2289\n",
      "229\n",
      "2290\n",
      "2291\n",
      "2292\n",
      "2293\n",
      "2294\n",
      "2295\n",
      "2296\n",
      "2297\n",
      "2298\n",
      "2299\n",
      "23\n",
      "230\n",
      "2300\n",
      "2301\n",
      "2302\n",
      "2303\n",
      "2304\n",
      "2305\n",
      "2306\n",
      "2307\n",
      "2308\n",
      "2309\n",
      "231\n",
      "2310\n",
      "2311\n",
      "2312\n",
      "2313\n",
      "2314\n",
      "2315\n",
      "2316\n",
      "2317\n",
      "2318\n",
      "2319\n",
      "232\n",
      "2320\n",
      "233\n",
      "234\n",
      "235\n",
      "236\n",
      "237\n",
      "238\n",
      "239\n",
      "24\n",
      "240\n",
      "241\n",
      "242\n",
      "243\n",
      "244\n",
      "245\n",
      "246\n",
      "247\n",
      "248\n",
      "249\n",
      "25\n",
      "250\n",
      "251\n",
      "252\n",
      "253\n",
      "254\n",
      "255\n",
      "256\n",
      "257\n",
      "258\n",
      "259\n",
      "26\n",
      "260\n",
      "261\n",
      "262\n",
      "263\n",
      "264\n",
      "265\n",
      "266\n",
      "267\n",
      "268\n",
      "269\n",
      "27\n",
      "270\n",
      "271\n",
      "272\n",
      "273\n",
      "274\n",
      "275\n",
      "276\n",
      "277\n",
      "278\n",
      "279\n",
      "28\n",
      "280\n",
      "281\n",
      "282\n",
      "283\n",
      "284\n",
      "285\n",
      "286\n",
      "287\n",
      "288\n",
      "289\n",
      "29\n",
      "290\n",
      "291\n",
      "292\n",
      "293\n",
      "294\n",
      "295\n",
      "296\n",
      "297\n",
      "298\n",
      "299\n",
      "3\n",
      "30\n",
      "300\n",
      "301\n",
      "302\n",
      "303\n",
      "304\n",
      "305\n",
      "306\n",
      "307\n",
      "308\n",
      "309\n",
      "31\n",
      "310\n",
      "311\n",
      "312\n",
      "313\n",
      "314\n",
      "315\n",
      "316\n",
      "317\n",
      "318\n",
      "319\n",
      "32\n",
      "320\n",
      "321\n",
      "322\n",
      "323\n",
      "324\n",
      "325\n",
      "326\n",
      "327\n",
      "328\n",
      "329\n",
      "33\n",
      "330\n",
      "331\n",
      "332\n",
      "333\n",
      "334\n",
      "335\n",
      "336\n",
      "337\n",
      "338\n",
      "339\n",
      "34\n",
      "340\n",
      "341\n",
      "342\n",
      "343\n",
      "344\n",
      "345\n",
      "346\n",
      "347\n",
      "348\n",
      "349\n",
      "35\n",
      "350\n",
      "351\n",
      "352\n",
      "353\n",
      "354\n",
      "355\n",
      "356\n",
      "357\n",
      "358\n",
      "359\n",
      "36\n",
      "360\n",
      "361\n",
      "362\n",
      "363\n",
      "364\n",
      "365\n",
      "366\n",
      "367\n",
      "368\n",
      "369\n",
      "37\n",
      "370\n",
      "371\n",
      "372\n",
      "373\n",
      "374\n",
      "375\n",
      "376\n",
      "377\n",
      "378\n",
      "379\n",
      "38\n",
      "380\n",
      "381\n",
      "382\n",
      "383\n",
      "384\n",
      "385\n",
      "386\n",
      "387\n",
      "388\n",
      "389\n",
      "39\n",
      "390\n",
      "391\n",
      "392\n",
      "393\n",
      "394\n",
      "395\n",
      "396\n",
      "397\n",
      "398\n",
      "399\n",
      "4\n",
      "40\n",
      "400\n",
      "401\n",
      "402\n",
      "403\n",
      "404\n",
      "405\n",
      "406\n",
      "407\n",
      "408\n",
      "409\n",
      "41\n",
      "410\n",
      "411\n",
      "412\n",
      "413\n",
      "414\n",
      "415\n",
      "416\n",
      "417\n",
      "418\n",
      "419\n",
      "42\n",
      "420\n",
      "421\n",
      "422\n",
      "423\n",
      "424\n",
      "425\n",
      "426\n",
      "427\n",
      "428\n",
      "429\n",
      "43\n",
      "430\n",
      "431\n",
      "432\n",
      "433\n",
      "434\n",
      "435\n",
      "436\n",
      "437\n",
      "438\n",
      "439\n",
      "44\n",
      "440\n",
      "441\n",
      "442\n",
      "443\n",
      "444\n",
      "445\n",
      "446\n",
      "447\n",
      "448\n",
      "449\n",
      "45\n",
      "450\n",
      "451\n",
      "452\n",
      "453\n",
      "454\n",
      "455\n",
      "456\n",
      "457\n",
      "458\n",
      "459\n",
      "46\n",
      "460\n",
      "461\n",
      "462\n",
      "463\n",
      "464\n",
      "465\n",
      "466\n",
      "467\n",
      "468\n",
      "469\n",
      "47\n",
      "470\n",
      "471\n",
      "472\n",
      "473\n",
      "474\n",
      "475\n",
      "476\n",
      "477\n",
      "478\n",
      "479\n",
      "48\n",
      "480\n",
      "481\n",
      "482\n",
      "483\n",
      "484\n",
      "485\n",
      "486\n",
      "487\n",
      "488\n",
      "489\n",
      "49\n",
      "490\n",
      "491\n",
      "492\n",
      "493\n",
      "494\n",
      "495\n",
      "496\n",
      "497\n",
      "498\n",
      "499\n",
      "5\n",
      "50\n",
      "500\n",
      "501\n",
      "502\n",
      "503\n",
      "504\n",
      "505\n",
      "506\n",
      "507\n",
      "508\n",
      "509\n",
      "51\n",
      "510\n",
      "511\n",
      "512\n",
      "513\n",
      "514\n",
      "515\n",
      "516\n",
      "517\n",
      "518\n",
      "519\n",
      "52\n",
      "520\n",
      "521\n",
      "522\n",
      "523\n",
      "524\n",
      "525\n",
      "526\n",
      "527\n",
      "528\n",
      "529\n",
      "53\n",
      "530\n",
      "531\n",
      "532\n",
      "533\n",
      "534\n",
      "535\n",
      "536\n",
      "537\n",
      "538\n",
      "539\n",
      "54\n",
      "540\n",
      "541\n",
      "542\n",
      "543\n",
      "544\n",
      "545\n",
      "546\n",
      "547\n",
      "548\n",
      "549\n",
      "55\n",
      "550\n",
      "551\n",
      "552\n",
      "553\n",
      "554\n",
      "555\n",
      "556\n",
      "557\n",
      "558\n",
      "559\n",
      "56\n",
      "560\n",
      "561\n",
      "562\n",
      "563\n",
      "564\n",
      "565\n",
      "566\n",
      "567\n",
      "568\n",
      "569\n",
      "57\n",
      "570\n",
      "571\n",
      "572\n",
      "573\n",
      "574\n",
      "575\n",
      "576\n",
      "577\n",
      "578\n",
      "579\n",
      "58\n",
      "580\n",
      "581\n",
      "582\n",
      "583\n",
      "584\n",
      "585\n",
      "586\n",
      "587\n",
      "588\n",
      "589\n",
      "59\n",
      "590\n",
      "591\n",
      "592\n",
      "593\n",
      "594\n",
      "595\n",
      "596\n",
      "597\n",
      "598\n",
      "599\n",
      "6\n",
      "60\n",
      "600\n",
      "601\n",
      "602\n",
      "603\n",
      "604\n",
      "605\n",
      "606\n",
      "607\n",
      "608\n",
      "609\n",
      "61\n",
      "610\n",
      "611\n",
      "612\n",
      "613\n",
      "614\n",
      "615\n",
      "616\n",
      "617\n",
      "618\n",
      "619\n",
      "62\n",
      "620\n",
      "621\n",
      "622\n",
      "623\n",
      "624\n",
      "625\n",
      "626\n",
      "627\n",
      "628\n",
      "629\n",
      "63\n",
      "630\n",
      "631\n",
      "632\n",
      "633\n",
      "634\n",
      "635\n",
      "636\n",
      "637\n",
      "638\n",
      "639\n",
      "64\n",
      "640\n",
      "641\n",
      "642\n",
      "643\n",
      "644\n",
      "645\n",
      "646\n",
      "647\n",
      "648\n",
      "649\n",
      "65\n",
      "650\n",
      "651\n",
      "652\n",
      "653\n",
      "654\n",
      "655\n",
      "656\n",
      "657\n",
      "658\n",
      "659\n",
      "66\n",
      "660\n",
      "661\n",
      "662\n",
      "663\n",
      "664\n",
      "665\n",
      "666\n",
      "667\n",
      "668\n",
      "669\n",
      "67\n",
      "670\n",
      "671\n",
      "672\n",
      "673\n",
      "674\n",
      "675\n",
      "676\n",
      "677\n",
      "678\n",
      "679\n",
      "68\n",
      "680\n",
      "681\n",
      "682\n",
      "683\n",
      "684\n",
      "685\n",
      "686\n",
      "687\n",
      "688\n",
      "689\n",
      "69\n",
      "690\n",
      "691\n",
      "692\n",
      "693\n",
      "694\n",
      "695\n",
      "696\n",
      "697\n",
      "698\n",
      "699\n",
      "7\n",
      "70\n",
      "700\n",
      "701\n",
      "702\n",
      "703\n",
      "704\n",
      "705\n",
      "706\n",
      "707\n",
      "708\n",
      "709\n",
      "71\n",
      "710\n",
      "711\n",
      "712\n",
      "713\n",
      "714\n",
      "715\n",
      "716\n",
      "717\n",
      "718\n",
      "719\n",
      "72\n",
      "720\n",
      "721\n",
      "722\n",
      "723\n",
      "724\n",
      "725\n",
      "726\n",
      "727\n",
      "728\n",
      "729\n",
      "73\n",
      "730\n",
      "731\n",
      "732\n",
      "733\n",
      "734\n",
      "735\n",
      "736\n",
      "737\n",
      "738\n",
      "739\n",
      "74\n",
      "740\n",
      "741\n",
      "742\n",
      "743\n",
      "744\n",
      "745\n",
      "746\n",
      "747\n",
      "748\n",
      "749\n",
      "75\n",
      "750\n",
      "751\n",
      "752\n",
      "753\n",
      "754\n",
      "755\n",
      "756\n",
      "757\n",
      "758\n",
      "759\n",
      "76\n",
      "760\n",
      "761\n",
      "762\n",
      "763\n",
      "764\n",
      "765\n",
      "766\n",
      "767\n",
      "768\n",
      "769\n",
      "77\n",
      "770\n",
      "771\n",
      "772\n",
      "773\n",
      "774\n",
      "775\n",
      "776\n",
      "777\n",
      "778\n",
      "779\n",
      "78\n",
      "780\n",
      "781\n",
      "782\n",
      "783\n",
      "784\n",
      "785\n",
      "786\n",
      "787\n",
      "788\n",
      "789\n",
      "79\n",
      "790\n",
      "791\n",
      "792\n",
      "793\n",
      "794\n",
      "795\n",
      "796\n",
      "797\n",
      "798\n",
      "799\n",
      "8\n",
      "80\n",
      "800\n",
      "801\n",
      "802\n",
      "803\n",
      "804\n",
      "805\n",
      "806\n",
      "807\n",
      "808\n",
      "809\n",
      "81\n",
      "810\n",
      "811\n",
      "812\n",
      "813\n",
      "814\n",
      "815\n",
      "816\n",
      "817\n",
      "818\n",
      "819\n",
      "82\n",
      "820\n",
      "821\n",
      "822\n",
      "823\n",
      "824\n",
      "825\n",
      "826\n",
      "827\n",
      "828\n",
      "829\n",
      "83\n",
      "830\n",
      "831\n",
      "832\n",
      "833\n",
      "834\n",
      "835\n",
      "836\n",
      "837\n",
      "838\n",
      "839\n",
      "84\n",
      "840\n",
      "841\n",
      "842\n",
      "843\n",
      "844\n",
      "845\n",
      "846\n",
      "847\n",
      "848\n",
      "849\n",
      "85\n",
      "850\n",
      "851\n",
      "852\n",
      "853\n",
      "854\n",
      "855\n",
      "856\n",
      "857\n",
      "858\n",
      "859\n",
      "86\n",
      "860\n",
      "861\n",
      "862\n",
      "863\n",
      "864\n",
      "865\n",
      "866\n",
      "867\n",
      "868\n",
      "869\n",
      "87\n",
      "870\n",
      "871\n",
      "872\n",
      "873\n",
      "874\n",
      "875\n",
      "876\n",
      "877\n",
      "878\n",
      "879\n",
      "88\n",
      "880\n",
      "881\n",
      "882\n",
      "883\n",
      "884\n",
      "885\n",
      "886\n",
      "887\n",
      "888\n",
      "889\n",
      "89\n",
      "890\n",
      "891\n",
      "892\n",
      "893\n",
      "894\n",
      "895\n",
      "896\n",
      "897\n",
      "898\n",
      "899\n",
      "9\n",
      "90\n",
      "900\n",
      "901\n",
      "902\n",
      "903\n",
      "904\n",
      "905\n",
      "906\n",
      "907\n",
      "908\n",
      "909\n",
      "91\n",
      "910\n",
      "911\n",
      "912\n",
      "913\n",
      "914\n",
      "915\n",
      "916\n",
      "917\n",
      "918\n",
      "919\n",
      "92\n",
      "920\n",
      "921\n",
      "922\n",
      "923\n",
      "924\n",
      "925\n",
      "926\n",
      "927\n",
      "928\n",
      "929\n",
      "93\n",
      "930\n",
      "931\n",
      "932\n",
      "933\n",
      "934\n",
      "935\n",
      "936\n",
      "937\n",
      "938\n",
      "939\n",
      "94\n",
      "940\n",
      "941\n",
      "942\n",
      "943\n",
      "944\n",
      "945\n",
      "946\n",
      "947\n",
      "948\n",
      "949\n",
      "95\n",
      "950\n",
      "951\n",
      "952\n",
      "953\n",
      "954\n",
      "955\n",
      "956\n",
      "957\n",
      "958\n",
      "959\n",
      "96\n",
      "960\n",
      "961\n",
      "962\n",
      "963\n",
      "964\n",
      "965\n",
      "966\n",
      "967\n",
      "968\n",
      "969\n",
      "97\n",
      "970\n",
      "971\n",
      "972\n",
      "973\n",
      "974\n",
      "975\n",
      "976\n",
      "977\n",
      "978\n",
      "979\n",
      "98\n",
      "980\n",
      "981\n",
      "982\n",
      "983\n",
      "984\n",
      "985\n",
      "986\n",
      "987\n",
      "988\n",
      "989\n",
      "99\n",
      "990\n",
      "991\n",
      "992\n",
      "993\n",
      "994\n",
      "995\n",
      "996\n",
      "997\n",
      "998\n",
      "999\n"
     ]
    }
   ],
   "source": [
    "alphabetical = []\n",
    "\n",
    "for i,s in enumerate(source):\n",
    "\n",
    "    bas = os.path.basename(s)\n",
    "    name , _ = os.path.splitext(bas)\n",
    "    print(name)\n",
    "\n",
    "    alphabetical.append(name)"
   ]
  },
  {
   "cell_type": "code",
   "execution_count": 175,
   "id": "2690aef0-65c8-4990-8304-53f22a453fb2",
   "metadata": {},
   "outputs": [],
   "source": [
    "source = DataSource(source='./data/data/test_set_Numpy/')"
   ]
  },
  {
   "cell_type": "markdown",
   "id": "1f8549b3-47a3-4c1a-a6c3-5e187679cd36",
   "metadata": {},
   "source": [
    "## reorder dictionary"
   ]
  },
  {
   "cell_type": "code",
   "execution_count": 188,
   "id": "e7f65b6c-8d19-4e48-ac1e-3a0af1272162",
   "metadata": {},
   "outputs": [],
   "source": [
    "test_set = pd.read_csv('./data/test_set.csv').to_numpy()"
   ]
  },
  {
   "cell_type": "code",
   "execution_count": 189,
   "id": "dc01642b-d64a-4bc6-86cb-3540e59850ea",
   "metadata": {},
   "outputs": [
    {
     "data": {
      "text/plain": [
       "array([['0.vtk'],\n",
       "       ['1.vtk'],\n",
       "       ['2.vtk'],\n",
       "       ...,\n",
       "       ['2318.vtk'],\n",
       "       ['2319.vtk'],\n",
       "       ['2320.vtk']], dtype=object)"
      ]
     },
     "execution_count": 189,
     "metadata": {},
     "output_type": "execute_result"
    }
   ],
   "source": []
  },
  {
   "cell_type": "code",
   "execution_count": 199,
   "id": "2a79e45a-252e-44b8-9cc1-86e9c4c9de49",
   "metadata": {},
   "outputs": [
    {
     "data": {
      "text/plain": [
       "['0', '1', '10', '100', '1000', '1001', '1002', '1003', '1004', '1005']"
      ]
     },
     "execution_count": 199,
     "metadata": {},
     "output_type": "execute_result"
    }
   ],
   "source": [
    "alphabetical[:10]"
   ]
  },
  {
   "cell_type": "code",
   "execution_count": 248,
   "id": "ebd301cd-1667-4e40-ae95-f4c2a893b235",
   "metadata": {},
   "outputs": [],
   "source": [
    "numerical = [int(x) for x in alphabetical]"
   ]
  },
  {
   "cell_type": "code",
   "execution_count": 249,
   "id": "785feed2-e1a9-40d3-a801-c4ab63e5a27b",
   "metadata": {
    "scrolled": true
   },
   "outputs": [],
   "source": [
    "numerical = np.array(numerical)"
   ]
  },
  {
   "cell_type": "code",
   "execution_count": 250,
   "id": "0ac8e9aa-230b-497c-93b3-81adea5ee46a",
   "metadata": {},
   "outputs": [
    {
     "data": {
      "text/plain": [
       "array([   0,    1,   10,  100, 1000, 1001, 1002, 1003, 1004, 1005])"
      ]
     },
     "execution_count": 250,
     "metadata": {},
     "output_type": "execute_result"
    }
   ],
   "source": [
    "numerical[:10]"
   ]
  },
  {
   "cell_type": "code",
   "execution_count": 251,
   "id": "516b7bf1-4b17-4e7c-b683-7ad81eda6e4d",
   "metadata": {},
   "outputs": [],
   "source": [
    "permutation = np.argsort(numerical)"
   ]
  },
  {
   "cell_type": "code",
   "execution_count": 252,
   "id": "7d1588f7-0f9f-44b5-a99f-6a97c5e63243",
   "metadata": {},
   "outputs": [
    {
     "data": {
      "text/plain": [
       "array([   0,    1, 1112, ..., 1467, 1468, 1470])"
      ]
     },
     "execution_count": 252,
     "metadata": {},
     "output_type": "execute_result"
    }
   ],
   "source": [
    "permutation"
   ]
  },
  {
   "cell_type": "code",
   "execution_count": 253,
   "id": "6449b02c-1f27-4720-ac0e-15ab340f7bdc",
   "metadata": {},
   "outputs": [
    {
     "data": {
      "text/plain": [
       "array([   0,    1,    2, ..., 2318, 2319, 2320])"
      ]
     },
     "execution_count": 253,
     "metadata": {},
     "output_type": "execute_result"
    }
   ],
   "source": [
    "numerical[permutation]"
   ]
  },
  {
   "cell_type": "raw",
   "id": "d97b0093-178e-4751-86da-31c9fbbbc8d8",
   "metadata": {},
   "source": [
    "print(permutation)"
   ]
  },
  {
   "cell_type": "code",
   "execution_count": 254,
   "id": "e7c41d69-f032-40c6-9d4c-b59c6bd9da68",
   "metadata": {},
   "outputs": [],
   "source": [
    "marcoSbagliato = pd.read_csv('./data/results/classification135/Classification135Balanced.csv').to_numpy()[:,1]"
   ]
  },
  {
   "cell_type": "code",
   "execution_count": 255,
   "id": "e4aae411-7638-4c47-abb4-afac1ca70c99",
   "metadata": {},
   "outputs": [],
   "source": [
    "marcoSperiamo = marcoSbagliato[permutation]"
   ]
  },
  {
   "cell_type": "code",
   "execution_count": 375,
   "id": "2dba5632-4f74-46d2-8a21-02f4d5cbd5ff",
   "metadata": {},
   "outputs": [],
   "source": [
    "truth = pd.read_csv('./test_set_ground_truth.csv').to_numpy()[:,1]"
   ]
  },
  {
   "cell_type": "code",
   "execution_count": 257,
   "id": "b6266149-9028-4ad8-8a0c-5ce382869fde",
   "metadata": {},
   "outputs": [],
   "source": [
    "from sklearn.metrics import accuracy_score"
   ]
  },
  {
   "cell_type": "code",
   "execution_count": 258,
   "id": "fd65d29a-9544-4321-8a21-93d764d178e7",
   "metadata": {},
   "outputs": [
    {
     "data": {
      "text/plain": [
       "0.8388625592417062"
      ]
     },
     "execution_count": 258,
     "metadata": {},
     "output_type": "execute_result"
    }
   ],
   "source": [
    "accuracy_score(truth, marcoSperiamo)"
   ]
  },
  {
   "cell_type": "code",
   "execution_count": 245,
   "id": "70592e1c-1014-44dd-8533-7643b4614c8d",
   "metadata": {},
   "outputs": [
    {
     "data": {
      "text/plain": [
       "0.07626023265833692"
      ]
     },
     "execution_count": 245,
     "metadata": {},
     "output_type": "execute_result"
    }
   ],
   "source": [
    "accuracy_score(truth, marcoSbagliato)"
   ]
  },
  {
   "cell_type": "code",
   "execution_count": 265,
   "id": "4bae748d-fa60-476e-94fb-d1bb16b610af",
   "metadata": {
    "scrolled": true
   },
   "outputs": [
    {
     "ename": "TypeError",
     "evalue": "DataFrame.__init__() got an unexpected keyword argument 'header'",
     "output_type": "error",
     "traceback": [
      "\u001b[0;31m---------------------------------------------------------------------------\u001b[0m",
      "\u001b[0;31mTypeError\u001b[0m                                 Traceback (most recent call last)",
      "Cell \u001b[0;32mIn[265], line 1\u001b[0m\n\u001b[0;32m----> 1\u001b[0m marcoSperiamoDf \u001b[38;5;241m=\u001b[39m \u001b[43mpd\u001b[49m\u001b[38;5;241;43m.\u001b[39;49m\u001b[43mDataFrame\u001b[49m\u001b[43m(\u001b[49m\u001b[43mmarcoSperiamo\u001b[49m\u001b[43m,\u001b[49m\u001b[43m \u001b[49m\u001b[43mheader\u001b[49m\u001b[38;5;241;43m=\u001b[39;49m\u001b[38;5;28;43;01mNone\u001b[39;49;00m\u001b[43m)\u001b[49m\n",
      "\u001b[0;31mTypeError\u001b[0m: DataFrame.__init__() got an unexpected keyword argument 'header'"
     ]
    }
   ],
   "source": [
    "marcoSperiamoDf = pd.DataFrame(marcoSperiamo)"
   ]
  },
  {
   "cell_type": "code",
   "execution_count": 266,
   "id": "acb244e2-4914-467a-b0e8-5d88aa8fd416",
   "metadata": {},
   "outputs": [],
   "source": [
    "marcoSperiamoDf.to_csv('./CombinedMethod/Method1.csv', header=None)"
   ]
  },
  {
   "cell_type": "code",
   "execution_count": 267,
   "id": "5ba72cf1-0e5e-44d0-b71b-af0b41f84e01",
   "metadata": {},
   "outputs": [
    {
     "data": {
      "text/html": [
       "<div>\n",
       "<style scoped>\n",
       "    .dataframe tbody tr th:only-of-type {\n",
       "        vertical-align: middle;\n",
       "    }\n",
       "\n",
       "    .dataframe tbody tr th {\n",
       "        vertical-align: top;\n",
       "    }\n",
       "\n",
       "    .dataframe thead th {\n",
       "        text-align: right;\n",
       "    }\n",
       "</style>\n",
       "<table border=\"1\" class=\"dataframe\">\n",
       "  <thead>\n",
       "    <tr style=\"text-align: right;\">\n",
       "      <th></th>\n",
       "      <th>0</th>\n",
       "    </tr>\n",
       "  </thead>\n",
       "  <tbody>\n",
       "    <tr>\n",
       "      <th>0</th>\n",
       "      <td>39</td>\n",
       "    </tr>\n",
       "    <tr>\n",
       "      <th>1</th>\n",
       "      <td>10</td>\n",
       "    </tr>\n",
       "    <tr>\n",
       "      <th>2</th>\n",
       "      <td>8</td>\n",
       "    </tr>\n",
       "    <tr>\n",
       "      <th>3</th>\n",
       "      <td>54</td>\n",
       "    </tr>\n",
       "    <tr>\n",
       "      <th>4</th>\n",
       "      <td>41</td>\n",
       "    </tr>\n",
       "    <tr>\n",
       "      <th>...</th>\n",
       "      <td>...</td>\n",
       "    </tr>\n",
       "    <tr>\n",
       "      <th>2316</th>\n",
       "      <td>9</td>\n",
       "    </tr>\n",
       "    <tr>\n",
       "      <th>2317</th>\n",
       "      <td>8</td>\n",
       "    </tr>\n",
       "    <tr>\n",
       "      <th>2318</th>\n",
       "      <td>8</td>\n",
       "    </tr>\n",
       "    <tr>\n",
       "      <th>2319</th>\n",
       "      <td>75</td>\n",
       "    </tr>\n",
       "    <tr>\n",
       "      <th>2320</th>\n",
       "      <td>8</td>\n",
       "    </tr>\n",
       "  </tbody>\n",
       "</table>\n",
       "<p>2321 rows × 1 columns</p>\n",
       "</div>"
      ],
      "text/plain": [
       "       0\n",
       "0     39\n",
       "1     10\n",
       "2      8\n",
       "3     54\n",
       "4     41\n",
       "...   ..\n",
       "2316   9\n",
       "2317   8\n",
       "2318   8\n",
       "2319  75\n",
       "2320   8\n",
       "\n",
       "[2321 rows x 1 columns]"
      ]
     },
     "execution_count": 267,
     "metadata": {},
     "output_type": "execute_result"
    }
   ],
   "source": [
    "marcoSperiamoDf"
   ]
  },
  {
   "cell_type": "code",
   "execution_count": 268,
   "id": "0b3b462f-0685-4933-bb91-74e403e0cac7",
   "metadata": {},
   "outputs": [
    {
     "data": {
      "text/plain": [
       "array([39, 10,  8, ...,  8, 75,  8])"
      ]
     },
     "execution_count": 268,
     "metadata": {},
     "output_type": "execute_result"
    }
   ],
   "source": [
    "marcoSperiamo"
   ]
  },
  {
   "cell_type": "code",
   "execution_count": 292,
   "id": "bbdec9c9-f41c-4161-9d31-f482a49049da",
   "metadata": {},
   "outputs": [],
   "source": [
    "giorgio = pd.read_csv('./CombinedMethod/Method2.csv', header=None).to_numpy()[:,1]"
   ]
  },
  {
   "cell_type": "code",
   "execution_count": 309,
   "id": "23277e4d-fb99-4cba-a8c2-718e46f1ecc8",
   "metadata": {},
   "outputs": [
    {
     "data": {
      "text/plain": [
       "array([39, 10,  8, 54, 41, 14, 69,  8,  8, 33,  8,  8,  8,  8, 56,  8, 64,\n",
       "       56, 56, 47,  8, 15, 14, 14, 14])"
      ]
     },
     "execution_count": 309,
     "metadata": {},
     "output_type": "execute_result"
    }
   ],
   "source": [
    "marcoSperiamo[:25]"
   ]
  },
  {
   "cell_type": "code",
   "execution_count": 294,
   "id": "e550e026-cd12-4137-9220-46c2dc1615b6",
   "metadata": {},
   "outputs": [
    {
     "data": {
      "text/plain": [
       "array([39, 86,  8, 54, 43, 14, 69,  8,  8, 33])"
      ]
     },
     "execution_count": 294,
     "metadata": {},
     "output_type": "execute_result"
    }
   ],
   "source": [
    "giorgio[:10]"
   ]
  },
  {
   "cell_type": "code",
   "execution_count": 295,
   "id": "c42c607b-b102-4d98-8b46-380c4ff949ba",
   "metadata": {},
   "outputs": [
    {
     "data": {
      "text/plain": [
       "0.7462300732442912"
      ]
     },
     "execution_count": 295,
     "metadata": {},
     "output_type": "execute_result"
    }
   ],
   "source": [
    "np.where( giorgio == marcoSperiamo )[0].shape[0]/andrea.shape[0]"
   ]
  },
  {
   "cell_type": "code",
   "execution_count": 303,
   "id": "f9108857-a27b-45ef-9b94-e72df0991897",
   "metadata": {},
   "outputs": [],
   "source": [
    "marcoClassProbSbagliato = pd.read_csv('./data/results/classification135/ClassesProbabilitiesBalanced.csv').to_numpy()"
   ]
  },
  {
   "cell_type": "code",
   "execution_count": 304,
   "id": "75f92239-4439-40df-bfa8-6476fa142094",
   "metadata": {},
   "outputs": [],
   "source": [
    "marcoClassProb = marcoClassProbSbagliato[ permutation , : ]"
   ]
  },
  {
   "cell_type": "code",
   "execution_count": 308,
   "id": "909c7f7b-5e65-4fbe-add3-e08253de1f1b",
   "metadata": {},
   "outputs": [
    {
     "data": {
      "text/plain": [
       "array([[0, '[39]', '[1.0]'],\n",
       "       [1, '[10]', '[1.0]'],\n",
       "       [1112, '[8]', '[1.0]'],\n",
       "       [1544, '[54]', '[1.0]'],\n",
       "       [1655, '[41]', '[1.0]'],\n",
       "       [1766, '[14]', '[1.0]'],\n",
       "       [1877, '[69]', '[1.0]'],\n",
       "       [1988, '[8]', '[1.0]'],\n",
       "       [2099, '[8]', '[1.0]'],\n",
       "       [2210, '[33]', '[1.0]'],\n",
       "       [2, '[8]', '[1.0]'],\n",
       "       [113, '[8]', '[1.0]'],\n",
       "       [224, '[8]', '[1.0]'],\n",
       "       [335, '[8]', '[1.0]'],\n",
       "       [446, '[56]', '[1.0]'],\n",
       "       [557, '[8]', '[1.0]'],\n",
       "       [668, '[64, 21]', '[0.875, 0.125]'],\n",
       "       [779, '[56]', '[1.0]'],\n",
       "       [890, '[56]', '[1.0]'],\n",
       "       [1001, '[47]', '[1.0]'],\n",
       "       [1113, '[8]', '[1.0]'],\n",
       "       [1224, '[15]', '[1.0]'],\n",
       "       [1335, '[14]', '[1.0]'],\n",
       "       [1446, '[14]', '[1.0]'],\n",
       "       [1478, '[14]', '[1.0]']], dtype=object)"
      ]
     },
     "execution_count": 308,
     "metadata": {},
     "output_type": "execute_result"
    }
   ],
   "source": [
    "marcoClassProb[:25,:]"
   ]
  },
  {
   "cell_type": "code",
   "execution_count": 338,
   "id": "91ad6d79-fa62-4499-b81f-6d94908fa02b",
   "metadata": {},
   "outputs": [],
   "source": [
    "f = open('./CombinedMethod/marco-probabilities-135-balanced.txt', 'w')"
   ]
  },
  {
   "cell_type": "code",
   "execution_count": 339,
   "id": "eeea1179-083b-4ca0-96b2-e5ae9b9a4f5f",
   "metadata": {},
   "outputs": [],
   "source": [
    "for i in range( marcoClassProb.shape[0] ):\n",
    "    line = marcoClassProb[i,:]\n",
    "    classes = line[1]\n",
    "    probs = line[2]\n",
    "\n",
    "    classes = classes.replace(\",\",\":\")\n",
    "    probs = probs.replace(\",\",\":\")\n",
    "\n",
    "    \n",
    "    writeline = ''\n",
    "\n",
    "    writeline += str(i) + ', '\n",
    "    writeline += classes\n",
    "    writeline += ', '\n",
    "    writeline += probs\n",
    "    writeline += ' \\n'\n",
    "    \n",
    "    # lclasses = len(classes)\n",
    "    # for jc, c in enumerate(classes):\n",
    "    #     writeline += str(c)\n",
    "    #     if jc + 1 < lclasses:\n",
    "    #         writeline += ':'\n",
    "\n",
    "    # writeline += '] ,'\n",
    "\n",
    "    # writeline += ', ['\n",
    "    # lprobs = len(probs)\n",
    "    # for jp, p in enumerate(probs):\n",
    "    #     writeline += str(p)\n",
    "    #     if jp + 1 < lprobs:\n",
    "    #         writeline += ':'\n",
    "\n",
    "    # writeline += '] \\n'\n",
    "\n",
    "    f.write(writeline)\n",
    "    "
   ]
  },
  {
   "cell_type": "code",
   "execution_count": 340,
   "id": "0e291032-df0f-4c93-ac0a-d41c34223704",
   "metadata": {},
   "outputs": [],
   "source": [
    "f.close()"
   ]
  },
  {
   "cell_type": "code",
   "execution_count": 362,
   "id": "45b0168d-bd5c-4a07-8db5-290a30fac76d",
   "metadata": {},
   "outputs": [],
   "source": [
    "results = []"
   ]
  },
  {
   "cell_type": "code",
   "execution_count": 363,
   "id": "ef5fcbbd-b236-479a-8eda-6b2a1fbede73",
   "metadata": {},
   "outputs": [],
   "source": [
    "f = open('./CombinedMethod/voting-explained-marco-135-balanced.txt', 'r')"
   ]
  },
  {
   "cell_type": "code",
   "execution_count": 364,
   "id": "e4e6b305-f3ee-41c4-a27c-059f9624555e",
   "metadata": {},
   "outputs": [],
   "source": [
    "for line in f.readlines():\n",
    "\n",
    "    line = line.strip()\n",
    "    line = line.split()\n",
    "    cls = line[-1]\n",
    "    Id , class_ = cls.split(',')\n",
    "    Id = int(Id)\n",
    "    class_ = int(class_)\n",
    "    results.append([Id,class_])\n",
    "    "
   ]
  },
  {
   "cell_type": "code",
   "execution_count": 367,
   "id": "2db09a8f-aa78-4b7a-a239-ea5696e7bd2e",
   "metadata": {
    "scrolled": true
   },
   "outputs": [],
   "source": [
    "results = np.array(results)"
   ]
  },
  {
   "cell_type": "code",
   "execution_count": 370,
   "id": "119287e9-81d9-4ebb-8c60-78ee49a5cb0c",
   "metadata": {},
   "outputs": [],
   "source": [
    "resultsCsv = pd.DataFrame(results)"
   ]
  },
  {
   "cell_type": "code",
   "execution_count": 372,
   "id": "6a6ace2a-eb49-4f42-b4d7-cda93a284787",
   "metadata": {},
   "outputs": [],
   "source": [
    "resultsCsv.to_csv('./CombinedMethod/Method4.csv', header=None, index=None)"
   ]
  },
  {
   "cell_type": "code",
   "execution_count": 373,
   "id": "8411a50c-c464-46a3-b85a-6899605e01bd",
   "metadata": {},
   "outputs": [],
   "source": [
    "combined = results[:,1]"
   ]
  },
  {
   "cell_type": "code",
   "execution_count": 376,
   "id": "7f095797-b60b-434e-bdd6-00b32605a5dc",
   "metadata": {},
   "outputs": [
    {
     "data": {
      "text/plain": [
       "0.8750538560965101"
      ]
     },
     "execution_count": 376,
     "metadata": {},
     "output_type": "execute_result"
    }
   ],
   "source": [
    "accuracy_score(truth, combined)"
   ]
  },
  {
   "cell_type": "code",
   "execution_count": 377,
   "id": "ed6592d6-04d4-4820-a571-ad153be4685c",
   "metadata": {},
   "outputs": [
    {
     "data": {
      "text/plain": [
       "array([   0,    1, 1112, ..., 1467, 1468, 1470])"
      ]
     },
     "execution_count": 377,
     "metadata": {},
     "output_type": "execute_result"
    }
   ],
   "source": [
    "permutation"
   ]
  },
  {
   "cell_type": "code",
   "execution_count": 378,
   "id": "88fe793f-000e-4517-9d85-8fb20ba314b5",
   "metadata": {},
   "outputs": [],
   "source": [
    "permutationCsv = pd.DataFrame(permutation)"
   ]
  },
  {
   "cell_type": "code",
   "execution_count": 380,
   "id": "e1dfd4a9-624b-48a7-82e4-c0c6b6b84c40",
   "metadata": {},
   "outputs": [],
   "source": [
    "permutationCsv.to_csv('./CombinedMethod/Permutation.csv', header=None, index=None)"
   ]
  },
  {
   "cell_type": "code",
   "execution_count": 381,
   "id": "065024ba-6aa4-4315-85b4-896c7b9b73f4",
   "metadata": {},
   "outputs": [
    {
     "data": {
      "text/plain": [
       "array([39, 10,  8, 54, 41, 14, 69,  8,  8, 33,  8,  8,  8,  8, 56,  8, 64,\n",
       "       56, 56, 47])"
      ]
     },
     "execution_count": 381,
     "metadata": {},
     "output_type": "execute_result"
    }
   ],
   "source": [
    "marcoSperiamo[:20]"
   ]
  },
  {
   "cell_type": "code",
   "execution_count": 382,
   "id": "52a90a1f-2ee2-4b70-8e9d-a6de5014585a",
   "metadata": {},
   "outputs": [
    {
     "data": {
      "text/plain": [
       "array([88, 10,  8, 54, 41, 14, 69,  8,  8, 33,  8,  8,  8,  8, 93, 71, 21,\n",
       "       56, 56, 32])"
      ]
     },
     "execution_count": 382,
     "metadata": {},
     "output_type": "execute_result"
    }
   ],
   "source": [
    "truth[:20]"
   ]
  },
  {
   "cell_type": "code",
   "execution_count": 383,
   "id": "905b46fd-5be0-4642-8446-6024de383021",
   "metadata": {},
   "outputs": [
    {
     "data": {
      "text/plain": [
       "array([39, 86,  8, 54, 43, 14, 69,  8,  8, 33,  8,  8,  8, 25, 56, 71, 21,\n",
       "       56, 56, 32])"
      ]
     },
     "execution_count": 383,
     "metadata": {},
     "output_type": "execute_result"
    }
   ],
   "source": [
    "andrea[:20]"
   ]
  },
  {
   "cell_type": "code",
   "execution_count": 385,
   "id": "78822ded-1f25-459c-835e-27a9ff6e537c",
   "metadata": {},
   "outputs": [
    {
     "data": {
      "text/plain": [
       "array([39, 10,  8, 54, 41, 14, 69,  8,  8, 33,  8,  8,  8,  8, 56,  8, 64,\n",
       "       56, 56, 47])"
      ]
     },
     "execution_count": 385,
     "metadata": {},
     "output_type": "execute_result"
    }
   ],
   "source": [
    "marcoSbagliato[permutation][:20]"
   ]
  },
  {
   "cell_type": "code",
   "execution_count": 386,
   "id": "db149184-afc5-4fa5-bec7-8347131dfd3a",
   "metadata": {},
   "outputs": [
    {
     "data": {
      "text/plain": [
       "array([   0,    1, 1112, 1544, 1655, 1766, 1877, 1988, 2099, 2210,    2,\n",
       "        113,  224,  335,  446,  557,  668,  779,  890, 1001])"
      ]
     },
     "execution_count": 386,
     "metadata": {},
     "output_type": "execute_result"
    }
   ],
   "source": [
    "permutation[:20]"
   ]
  },
  {
   "cell_type": "code",
   "execution_count": null,
   "id": "a1ef6359-630e-427a-94e3-f59763fe9ed5",
   "metadata": {},
   "outputs": [],
   "source": []
  }
 ],
 "metadata": {
  "kernelspec": {
   "display_name": "Python 3 (ipykernel)",
   "language": "python",
   "name": "python3"
  },
  "language_info": {
   "codemirror_mode": {
    "name": "ipython",
    "version": 3
   },
   "file_extension": ".py",
   "mimetype": "text/x-python",
   "name": "python",
   "nbconvert_exporter": "python",
   "pygments_lexer": "ipython3",
   "version": "3.10.12"
  }
 },
 "nbformat": 4,
 "nbformat_minor": 5
}
